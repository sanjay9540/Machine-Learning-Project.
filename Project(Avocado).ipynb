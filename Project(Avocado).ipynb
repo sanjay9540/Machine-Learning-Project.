{
 "cells": [
  {
   "cell_type": "markdown",
   "id": "0f1483df",
   "metadata": {},
   "source": [
    "# AVOCADO PROJECT"
   ]
  },
  {
   "cell_type": "code",
   "execution_count": 1,
   "id": "421b5266",
   "metadata": {},
   "outputs": [],
   "source": [
    "import pandas as pd\n",
    "import numpy as np\n",
    "import seaborn as sns\n",
    "import warnings\n",
    "warnings.filterwarnings('ignore')"
   ]
  },
  {
   "cell_type": "code",
   "execution_count": 2,
   "id": "7c269fc6",
   "metadata": {},
   "outputs": [
    {
     "data": {
      "text/html": [
       "<div>\n",
       "<style scoped>\n",
       "    .dataframe tbody tr th:only-of-type {\n",
       "        vertical-align: middle;\n",
       "    }\n",
       "\n",
       "    .dataframe tbody tr th {\n",
       "        vertical-align: top;\n",
       "    }\n",
       "\n",
       "    .dataframe thead th {\n",
       "        text-align: right;\n",
       "    }\n",
       "</style>\n",
       "<table border=\"1\" class=\"dataframe\">\n",
       "  <thead>\n",
       "    <tr style=\"text-align: right;\">\n",
       "      <th></th>\n",
       "      <th>Unnamed: 0</th>\n",
       "      <th>Date</th>\n",
       "      <th>AveragePrice</th>\n",
       "      <th>Total Volume</th>\n",
       "      <th>4046</th>\n",
       "      <th>4225</th>\n",
       "      <th>4770</th>\n",
       "      <th>Total Bags</th>\n",
       "      <th>Small Bags</th>\n",
       "      <th>Large Bags</th>\n",
       "      <th>XLarge Bags</th>\n",
       "      <th>type</th>\n",
       "      <th>year</th>\n",
       "      <th>region</th>\n",
       "    </tr>\n",
       "  </thead>\n",
       "  <tbody>\n",
       "    <tr>\n",
       "      <th>0</th>\n",
       "      <td>0</td>\n",
       "      <td>27-12-2015</td>\n",
       "      <td>1.33</td>\n",
       "      <td>64236.62</td>\n",
       "      <td>1036.74</td>\n",
       "      <td>54454.85</td>\n",
       "      <td>48.16</td>\n",
       "      <td>8696.87</td>\n",
       "      <td>8603.62</td>\n",
       "      <td>93.25</td>\n",
       "      <td>0.0</td>\n",
       "      <td>conventional</td>\n",
       "      <td>2015</td>\n",
       "      <td>Albany</td>\n",
       "    </tr>\n",
       "    <tr>\n",
       "      <th>1</th>\n",
       "      <td>1</td>\n",
       "      <td>20-12-2015</td>\n",
       "      <td>1.35</td>\n",
       "      <td>54876.98</td>\n",
       "      <td>674.28</td>\n",
       "      <td>44638.81</td>\n",
       "      <td>58.33</td>\n",
       "      <td>9505.56</td>\n",
       "      <td>9408.07</td>\n",
       "      <td>97.49</td>\n",
       "      <td>0.0</td>\n",
       "      <td>conventional</td>\n",
       "      <td>2015</td>\n",
       "      <td>Albany</td>\n",
       "    </tr>\n",
       "    <tr>\n",
       "      <th>2</th>\n",
       "      <td>2</td>\n",
       "      <td>13-12-2015</td>\n",
       "      <td>0.93</td>\n",
       "      <td>118220.22</td>\n",
       "      <td>794.70</td>\n",
       "      <td>109149.67</td>\n",
       "      <td>130.50</td>\n",
       "      <td>8145.35</td>\n",
       "      <td>8042.21</td>\n",
       "      <td>103.14</td>\n",
       "      <td>0.0</td>\n",
       "      <td>conventional</td>\n",
       "      <td>2015</td>\n",
       "      <td>Albany</td>\n",
       "    </tr>\n",
       "    <tr>\n",
       "      <th>3</th>\n",
       "      <td>3</td>\n",
       "      <td>06-12-2015</td>\n",
       "      <td>1.08</td>\n",
       "      <td>78992.15</td>\n",
       "      <td>1132.00</td>\n",
       "      <td>71976.41</td>\n",
       "      <td>72.58</td>\n",
       "      <td>5811.16</td>\n",
       "      <td>5677.40</td>\n",
       "      <td>133.76</td>\n",
       "      <td>0.0</td>\n",
       "      <td>conventional</td>\n",
       "      <td>2015</td>\n",
       "      <td>Albany</td>\n",
       "    </tr>\n",
       "    <tr>\n",
       "      <th>4</th>\n",
       "      <td>4</td>\n",
       "      <td>29-11-2015</td>\n",
       "      <td>1.28</td>\n",
       "      <td>51039.60</td>\n",
       "      <td>941.48</td>\n",
       "      <td>43838.39</td>\n",
       "      <td>75.78</td>\n",
       "      <td>6183.95</td>\n",
       "      <td>5986.26</td>\n",
       "      <td>197.69</td>\n",
       "      <td>0.0</td>\n",
       "      <td>conventional</td>\n",
       "      <td>2015</td>\n",
       "      <td>Albany</td>\n",
       "    </tr>\n",
       "    <tr>\n",
       "      <th>...</th>\n",
       "      <td>...</td>\n",
       "      <td>...</td>\n",
       "      <td>...</td>\n",
       "      <td>...</td>\n",
       "      <td>...</td>\n",
       "      <td>...</td>\n",
       "      <td>...</td>\n",
       "      <td>...</td>\n",
       "      <td>...</td>\n",
       "      <td>...</td>\n",
       "      <td>...</td>\n",
       "      <td>...</td>\n",
       "      <td>...</td>\n",
       "      <td>...</td>\n",
       "    </tr>\n",
       "    <tr>\n",
       "      <th>18244</th>\n",
       "      <td>7</td>\n",
       "      <td>04-02-2018</td>\n",
       "      <td>1.63</td>\n",
       "      <td>17074.83</td>\n",
       "      <td>2046.96</td>\n",
       "      <td>1529.20</td>\n",
       "      <td>0.00</td>\n",
       "      <td>13498.67</td>\n",
       "      <td>13066.82</td>\n",
       "      <td>431.85</td>\n",
       "      <td>0.0</td>\n",
       "      <td>organic</td>\n",
       "      <td>2018</td>\n",
       "      <td>WestTexNewMexico</td>\n",
       "    </tr>\n",
       "    <tr>\n",
       "      <th>18245</th>\n",
       "      <td>8</td>\n",
       "      <td>28-01-2018</td>\n",
       "      <td>1.71</td>\n",
       "      <td>13888.04</td>\n",
       "      <td>1191.70</td>\n",
       "      <td>3431.50</td>\n",
       "      <td>0.00</td>\n",
       "      <td>9264.84</td>\n",
       "      <td>8940.04</td>\n",
       "      <td>324.80</td>\n",
       "      <td>0.0</td>\n",
       "      <td>organic</td>\n",
       "      <td>2018</td>\n",
       "      <td>WestTexNewMexico</td>\n",
       "    </tr>\n",
       "    <tr>\n",
       "      <th>18246</th>\n",
       "      <td>9</td>\n",
       "      <td>21-01-2018</td>\n",
       "      <td>1.87</td>\n",
       "      <td>13766.76</td>\n",
       "      <td>1191.92</td>\n",
       "      <td>2452.79</td>\n",
       "      <td>727.94</td>\n",
       "      <td>9394.11</td>\n",
       "      <td>9351.80</td>\n",
       "      <td>42.31</td>\n",
       "      <td>0.0</td>\n",
       "      <td>organic</td>\n",
       "      <td>2018</td>\n",
       "      <td>WestTexNewMexico</td>\n",
       "    </tr>\n",
       "    <tr>\n",
       "      <th>18247</th>\n",
       "      <td>10</td>\n",
       "      <td>14-01-2018</td>\n",
       "      <td>1.93</td>\n",
       "      <td>16205.22</td>\n",
       "      <td>1527.63</td>\n",
       "      <td>2981.04</td>\n",
       "      <td>727.01</td>\n",
       "      <td>10969.54</td>\n",
       "      <td>10919.54</td>\n",
       "      <td>50.00</td>\n",
       "      <td>0.0</td>\n",
       "      <td>organic</td>\n",
       "      <td>2018</td>\n",
       "      <td>WestTexNewMexico</td>\n",
       "    </tr>\n",
       "    <tr>\n",
       "      <th>18248</th>\n",
       "      <td>11</td>\n",
       "      <td>07-01-2018</td>\n",
       "      <td>1.62</td>\n",
       "      <td>17489.58</td>\n",
       "      <td>2894.77</td>\n",
       "      <td>2356.13</td>\n",
       "      <td>224.53</td>\n",
       "      <td>12014.15</td>\n",
       "      <td>11988.14</td>\n",
       "      <td>26.01</td>\n",
       "      <td>0.0</td>\n",
       "      <td>organic</td>\n",
       "      <td>2018</td>\n",
       "      <td>WestTexNewMexico</td>\n",
       "    </tr>\n",
       "  </tbody>\n",
       "</table>\n",
       "<p>18249 rows × 14 columns</p>\n",
       "</div>"
      ],
      "text/plain": [
       "       Unnamed: 0        Date  AveragePrice  Total Volume     4046       4225  \\\n",
       "0               0  27-12-2015          1.33      64236.62  1036.74   54454.85   \n",
       "1               1  20-12-2015          1.35      54876.98   674.28   44638.81   \n",
       "2               2  13-12-2015          0.93     118220.22   794.70  109149.67   \n",
       "3               3  06-12-2015          1.08      78992.15  1132.00   71976.41   \n",
       "4               4  29-11-2015          1.28      51039.60   941.48   43838.39   \n",
       "...           ...         ...           ...           ...      ...        ...   \n",
       "18244           7  04-02-2018          1.63      17074.83  2046.96    1529.20   \n",
       "18245           8  28-01-2018          1.71      13888.04  1191.70    3431.50   \n",
       "18246           9  21-01-2018          1.87      13766.76  1191.92    2452.79   \n",
       "18247          10  14-01-2018          1.93      16205.22  1527.63    2981.04   \n",
       "18248          11  07-01-2018          1.62      17489.58  2894.77    2356.13   \n",
       "\n",
       "         4770  Total Bags  Small Bags  Large Bags  XLarge Bags          type  \\\n",
       "0       48.16     8696.87     8603.62       93.25          0.0  conventional   \n",
       "1       58.33     9505.56     9408.07       97.49          0.0  conventional   \n",
       "2      130.50     8145.35     8042.21      103.14          0.0  conventional   \n",
       "3       72.58     5811.16     5677.40      133.76          0.0  conventional   \n",
       "4       75.78     6183.95     5986.26      197.69          0.0  conventional   \n",
       "...       ...         ...         ...         ...          ...           ...   \n",
       "18244    0.00    13498.67    13066.82      431.85          0.0       organic   \n",
       "18245    0.00     9264.84     8940.04      324.80          0.0       organic   \n",
       "18246  727.94     9394.11     9351.80       42.31          0.0       organic   \n",
       "18247  727.01    10969.54    10919.54       50.00          0.0       organic   \n",
       "18248  224.53    12014.15    11988.14       26.01          0.0       organic   \n",
       "\n",
       "       year            region  \n",
       "0      2015            Albany  \n",
       "1      2015            Albany  \n",
       "2      2015            Albany  \n",
       "3      2015            Albany  \n",
       "4      2015            Albany  \n",
       "...     ...               ...  \n",
       "18244  2018  WestTexNewMexico  \n",
       "18245  2018  WestTexNewMexico  \n",
       "18246  2018  WestTexNewMexico  \n",
       "18247  2018  WestTexNewMexico  \n",
       "18248  2018  WestTexNewMexico  \n",
       "\n",
       "[18249 rows x 14 columns]"
      ]
     },
     "execution_count": 2,
     "metadata": {},
     "output_type": "execute_result"
    }
   ],
   "source": [
    "df=pd.read_csv(\"C:\\jan20\\Avocado.csv\")\n",
    "df"
   ]
  },
  {
   "cell_type": "code",
   "execution_count": 3,
   "id": "19e42d48",
   "metadata": {},
   "outputs": [
    {
     "data": {
      "text/plain": [
       "(18249, 14)"
      ]
     },
     "execution_count": 3,
     "metadata": {},
     "output_type": "execute_result"
    }
   ],
   "source": [
    "df.shape"
   ]
  },
  {
   "cell_type": "markdown",
   "id": "397c69a1",
   "metadata": {},
   "source": [
    "so,here we can see that data set have 18249 rows and 14 columns."
   ]
  },
  {
   "cell_type": "code",
   "execution_count": 4,
   "id": "709cdc6e",
   "metadata": {},
   "outputs": [
    {
     "data": {
      "text/html": [
       "<div>\n",
       "<style scoped>\n",
       "    .dataframe tbody tr th:only-of-type {\n",
       "        vertical-align: middle;\n",
       "    }\n",
       "\n",
       "    .dataframe tbody tr th {\n",
       "        vertical-align: top;\n",
       "    }\n",
       "\n",
       "    .dataframe thead th {\n",
       "        text-align: right;\n",
       "    }\n",
       "</style>\n",
       "<table border=\"1\" class=\"dataframe\">\n",
       "  <thead>\n",
       "    <tr style=\"text-align: right;\">\n",
       "      <th></th>\n",
       "      <th>Unnamed: 0</th>\n",
       "      <th>AveragePrice</th>\n",
       "      <th>Total Volume</th>\n",
       "      <th>4046</th>\n",
       "      <th>4225</th>\n",
       "      <th>4770</th>\n",
       "      <th>Total Bags</th>\n",
       "      <th>Small Bags</th>\n",
       "      <th>Large Bags</th>\n",
       "      <th>XLarge Bags</th>\n",
       "      <th>year</th>\n",
       "    </tr>\n",
       "  </thead>\n",
       "  <tbody>\n",
       "    <tr>\n",
       "      <th>count</th>\n",
       "      <td>18249.000000</td>\n",
       "      <td>18249.000000</td>\n",
       "      <td>1.824900e+04</td>\n",
       "      <td>1.824900e+04</td>\n",
       "      <td>1.824900e+04</td>\n",
       "      <td>1.824900e+04</td>\n",
       "      <td>1.824900e+04</td>\n",
       "      <td>1.824900e+04</td>\n",
       "      <td>1.824900e+04</td>\n",
       "      <td>18249.000000</td>\n",
       "      <td>18249.000000</td>\n",
       "    </tr>\n",
       "    <tr>\n",
       "      <th>mean</th>\n",
       "      <td>24.232232</td>\n",
       "      <td>1.405978</td>\n",
       "      <td>8.506440e+05</td>\n",
       "      <td>2.930084e+05</td>\n",
       "      <td>2.951546e+05</td>\n",
       "      <td>2.283974e+04</td>\n",
       "      <td>2.396392e+05</td>\n",
       "      <td>1.821947e+05</td>\n",
       "      <td>5.433809e+04</td>\n",
       "      <td>3106.426507</td>\n",
       "      <td>2016.147899</td>\n",
       "    </tr>\n",
       "    <tr>\n",
       "      <th>std</th>\n",
       "      <td>15.481045</td>\n",
       "      <td>0.402677</td>\n",
       "      <td>3.453545e+06</td>\n",
       "      <td>1.264989e+06</td>\n",
       "      <td>1.204120e+06</td>\n",
       "      <td>1.074641e+05</td>\n",
       "      <td>9.862424e+05</td>\n",
       "      <td>7.461785e+05</td>\n",
       "      <td>2.439660e+05</td>\n",
       "      <td>17692.894652</td>\n",
       "      <td>0.939938</td>\n",
       "    </tr>\n",
       "    <tr>\n",
       "      <th>min</th>\n",
       "      <td>0.000000</td>\n",
       "      <td>0.440000</td>\n",
       "      <td>8.456000e+01</td>\n",
       "      <td>0.000000e+00</td>\n",
       "      <td>0.000000e+00</td>\n",
       "      <td>0.000000e+00</td>\n",
       "      <td>0.000000e+00</td>\n",
       "      <td>0.000000e+00</td>\n",
       "      <td>0.000000e+00</td>\n",
       "      <td>0.000000</td>\n",
       "      <td>2015.000000</td>\n",
       "    </tr>\n",
       "    <tr>\n",
       "      <th>25%</th>\n",
       "      <td>10.000000</td>\n",
       "      <td>1.100000</td>\n",
       "      <td>1.083858e+04</td>\n",
       "      <td>8.540700e+02</td>\n",
       "      <td>3.008780e+03</td>\n",
       "      <td>0.000000e+00</td>\n",
       "      <td>5.088640e+03</td>\n",
       "      <td>2.849420e+03</td>\n",
       "      <td>1.274700e+02</td>\n",
       "      <td>0.000000</td>\n",
       "      <td>2015.000000</td>\n",
       "    </tr>\n",
       "    <tr>\n",
       "      <th>50%</th>\n",
       "      <td>24.000000</td>\n",
       "      <td>1.370000</td>\n",
       "      <td>1.073768e+05</td>\n",
       "      <td>8.645300e+03</td>\n",
       "      <td>2.906102e+04</td>\n",
       "      <td>1.849900e+02</td>\n",
       "      <td>3.974383e+04</td>\n",
       "      <td>2.636282e+04</td>\n",
       "      <td>2.647710e+03</td>\n",
       "      <td>0.000000</td>\n",
       "      <td>2016.000000</td>\n",
       "    </tr>\n",
       "    <tr>\n",
       "      <th>75%</th>\n",
       "      <td>38.000000</td>\n",
       "      <td>1.660000</td>\n",
       "      <td>4.329623e+05</td>\n",
       "      <td>1.110202e+05</td>\n",
       "      <td>1.502069e+05</td>\n",
       "      <td>6.243420e+03</td>\n",
       "      <td>1.107834e+05</td>\n",
       "      <td>8.333767e+04</td>\n",
       "      <td>2.202925e+04</td>\n",
       "      <td>132.500000</td>\n",
       "      <td>2017.000000</td>\n",
       "    </tr>\n",
       "    <tr>\n",
       "      <th>max</th>\n",
       "      <td>52.000000</td>\n",
       "      <td>3.250000</td>\n",
       "      <td>6.250565e+07</td>\n",
       "      <td>2.274362e+07</td>\n",
       "      <td>2.047057e+07</td>\n",
       "      <td>2.546439e+06</td>\n",
       "      <td>1.937313e+07</td>\n",
       "      <td>1.338459e+07</td>\n",
       "      <td>5.719097e+06</td>\n",
       "      <td>551693.650000</td>\n",
       "      <td>2018.000000</td>\n",
       "    </tr>\n",
       "  </tbody>\n",
       "</table>\n",
       "</div>"
      ],
      "text/plain": [
       "         Unnamed: 0  AveragePrice  Total Volume          4046          4225  \\\n",
       "count  18249.000000  18249.000000  1.824900e+04  1.824900e+04  1.824900e+04   \n",
       "mean      24.232232      1.405978  8.506440e+05  2.930084e+05  2.951546e+05   \n",
       "std       15.481045      0.402677  3.453545e+06  1.264989e+06  1.204120e+06   \n",
       "min        0.000000      0.440000  8.456000e+01  0.000000e+00  0.000000e+00   \n",
       "25%       10.000000      1.100000  1.083858e+04  8.540700e+02  3.008780e+03   \n",
       "50%       24.000000      1.370000  1.073768e+05  8.645300e+03  2.906102e+04   \n",
       "75%       38.000000      1.660000  4.329623e+05  1.110202e+05  1.502069e+05   \n",
       "max       52.000000      3.250000  6.250565e+07  2.274362e+07  2.047057e+07   \n",
       "\n",
       "               4770    Total Bags    Small Bags    Large Bags    XLarge Bags  \\\n",
       "count  1.824900e+04  1.824900e+04  1.824900e+04  1.824900e+04   18249.000000   \n",
       "mean   2.283974e+04  2.396392e+05  1.821947e+05  5.433809e+04    3106.426507   \n",
       "std    1.074641e+05  9.862424e+05  7.461785e+05  2.439660e+05   17692.894652   \n",
       "min    0.000000e+00  0.000000e+00  0.000000e+00  0.000000e+00       0.000000   \n",
       "25%    0.000000e+00  5.088640e+03  2.849420e+03  1.274700e+02       0.000000   \n",
       "50%    1.849900e+02  3.974383e+04  2.636282e+04  2.647710e+03       0.000000   \n",
       "75%    6.243420e+03  1.107834e+05  8.333767e+04  2.202925e+04     132.500000   \n",
       "max    2.546439e+06  1.937313e+07  1.338459e+07  5.719097e+06  551693.650000   \n",
       "\n",
       "               year  \n",
       "count  18249.000000  \n",
       "mean    2016.147899  \n",
       "std        0.939938  \n",
       "min     2015.000000  \n",
       "25%     2015.000000  \n",
       "50%     2016.000000  \n",
       "75%     2017.000000  \n",
       "max     2018.000000  "
      ]
     },
     "execution_count": 4,
     "metadata": {},
     "output_type": "execute_result"
    }
   ],
   "source": [
    "df.describe()"
   ]
  },
  {
   "cell_type": "code",
   "execution_count": 5,
   "id": "f1203bdd",
   "metadata": {},
   "outputs": [
    {
     "data": {
      "text/plain": [
       "Unnamed: 0      0\n",
       "Date            0\n",
       "AveragePrice    0\n",
       "Total Volume    0\n",
       "4046            0\n",
       "4225            0\n",
       "4770            0\n",
       "Total Bags      0\n",
       "Small Bags      0\n",
       "Large Bags      0\n",
       "XLarge Bags     0\n",
       "type            0\n",
       "year            0\n",
       "region          0\n",
       "dtype: int64"
      ]
     },
     "execution_count": 5,
     "metadata": {},
     "output_type": "execute_result"
    }
   ],
   "source": [
    "# checking the null values.\n",
    "df.isnull().sum()"
   ]
  },
  {
   "cell_type": "markdown",
   "id": "e4969e12",
   "metadata": {},
   "source": [
    "we can see no null values in this dataset. "
   ]
  },
  {
   "cell_type": "code",
   "execution_count": 6,
   "id": "61996ed8",
   "metadata": {},
   "outputs": [
    {
     "name": "stdout",
     "output_type": "stream",
     "text": [
      "<class 'pandas.core.frame.DataFrame'>\n",
      "RangeIndex: 18249 entries, 0 to 18248\n",
      "Data columns (total 14 columns):\n",
      " #   Column        Non-Null Count  Dtype  \n",
      "---  ------        --------------  -----  \n",
      " 0   Unnamed: 0    18249 non-null  int64  \n",
      " 1   Date          18249 non-null  object \n",
      " 2   AveragePrice  18249 non-null  float64\n",
      " 3   Total Volume  18249 non-null  float64\n",
      " 4   4046          18249 non-null  float64\n",
      " 5   4225          18249 non-null  float64\n",
      " 6   4770          18249 non-null  float64\n",
      " 7   Total Bags    18249 non-null  float64\n",
      " 8   Small Bags    18249 non-null  float64\n",
      " 9   Large Bags    18249 non-null  float64\n",
      " 10  XLarge Bags   18249 non-null  float64\n",
      " 11  type          18249 non-null  object \n",
      " 12  year          18249 non-null  int64  \n",
      " 13  region        18249 non-null  object \n",
      "dtypes: float64(9), int64(2), object(3)\n",
      "memory usage: 1.9+ MB\n"
     ]
    }
   ],
   "source": [
    "df.info()"
   ]
  },
  {
   "cell_type": "code",
   "execution_count": 7,
   "id": "0aa0c7bc",
   "metadata": {},
   "outputs": [
    {
     "data": {
      "text/plain": [
       "<Axes: >"
      ]
     },
     "execution_count": 7,
     "metadata": {},
     "output_type": "execute_result"
    },
    {
     "data": {
      "image/png": "[encoded data removed]",
      "text/plain": [
       "<Figure size 640x480 with 2 Axes>"
      ]
     },
     "metadata": {},
     "output_type": "display_data"
    }
   ],
   "source": [
    "sns.heatmap(df.isnull())"
   ]
  },
  {
   "cell_type": "markdown",
   "id": "c0231dbf",
   "metadata": {},
   "source": [
    " We can see no null values in this dataset."
   ]
  },
  {
   "cell_type": "code",
   "execution_count": 8,
   "id": "5dde3446",
   "metadata": {},
   "outputs": [],
   "source": [
    "# Droping the unnecessary columns from dataset.\n",
    "df.drop(['Unnamed: 0','XLarge Bags','Small Bags','Total Bags','Large Bags'], axis=1, inplace=True)\n"
   ]
  },
  {
   "cell_type": "code",
   "execution_count": 9,
   "id": "92dc3917",
   "metadata": {},
   "outputs": [
    {
     "data": {
      "text/plain": [
       "(18249, 9)"
      ]
     },
     "execution_count": 9,
     "metadata": {},
     "output_type": "execute_result"
    }
   ],
   "source": [
    "df.shape"
   ]
  },
  {
   "cell_type": "markdown",
   "id": "c1a621fb",
   "metadata": {},
   "source": [
    "\n",
    "So after dropping all the unnecessary column 18249 rows and only 9 columns in dataset"
   ]
  },
  {
   "cell_type": "code",
   "execution_count": 10,
   "id": "dd043693",
   "metadata": {},
   "outputs": [
    {
     "data": {
      "text/html": [
       "<div>\n",
       "<style scoped>\n",
       "    .dataframe tbody tr th:only-of-type {\n",
       "        vertical-align: middle;\n",
       "    }\n",
       "\n",
       "    .dataframe tbody tr th {\n",
       "        vertical-align: top;\n",
       "    }\n",
       "\n",
       "    .dataframe thead th {\n",
       "        text-align: right;\n",
       "    }\n",
       "</style>\n",
       "<table border=\"1\" class=\"dataframe\">\n",
       "  <thead>\n",
       "    <tr style=\"text-align: right;\">\n",
       "      <th></th>\n",
       "      <th>AveragePrice</th>\n",
       "      <th>Total Volume</th>\n",
       "      <th>4046</th>\n",
       "      <th>4225</th>\n",
       "      <th>4770</th>\n",
       "      <th>year</th>\n",
       "    </tr>\n",
       "  </thead>\n",
       "  <tbody>\n",
       "    <tr>\n",
       "      <th>count</th>\n",
       "      <td>18249.000000</td>\n",
       "      <td>1.824900e+04</td>\n",
       "      <td>1.824900e+04</td>\n",
       "      <td>1.824900e+04</td>\n",
       "      <td>1.824900e+04</td>\n",
       "      <td>18249.000000</td>\n",
       "    </tr>\n",
       "    <tr>\n",
       "      <th>mean</th>\n",
       "      <td>1.405978</td>\n",
       "      <td>8.506440e+05</td>\n",
       "      <td>2.930084e+05</td>\n",
       "      <td>2.951546e+05</td>\n",
       "      <td>2.283974e+04</td>\n",
       "      <td>2016.147899</td>\n",
       "    </tr>\n",
       "    <tr>\n",
       "      <th>std</th>\n",
       "      <td>0.402677</td>\n",
       "      <td>3.453545e+06</td>\n",
       "      <td>1.264989e+06</td>\n",
       "      <td>1.204120e+06</td>\n",
       "      <td>1.074641e+05</td>\n",
       "      <td>0.939938</td>\n",
       "    </tr>\n",
       "    <tr>\n",
       "      <th>min</th>\n",
       "      <td>0.440000</td>\n",
       "      <td>8.456000e+01</td>\n",
       "      <td>0.000000e+00</td>\n",
       "      <td>0.000000e+00</td>\n",
       "      <td>0.000000e+00</td>\n",
       "      <td>2015.000000</td>\n",
       "    </tr>\n",
       "    <tr>\n",
       "      <th>25%</th>\n",
       "      <td>1.100000</td>\n",
       "      <td>1.083858e+04</td>\n",
       "      <td>8.540700e+02</td>\n",
       "      <td>3.008780e+03</td>\n",
       "      <td>0.000000e+00</td>\n",
       "      <td>2015.000000</td>\n",
       "    </tr>\n",
       "    <tr>\n",
       "      <th>50%</th>\n",
       "      <td>1.370000</td>\n",
       "      <td>1.073768e+05</td>\n",
       "      <td>8.645300e+03</td>\n",
       "      <td>2.906102e+04</td>\n",
       "      <td>1.849900e+02</td>\n",
       "      <td>2016.000000</td>\n",
       "    </tr>\n",
       "    <tr>\n",
       "      <th>75%</th>\n",
       "      <td>1.660000</td>\n",
       "      <td>4.329623e+05</td>\n",
       "      <td>1.110202e+05</td>\n",
       "      <td>1.502069e+05</td>\n",
       "      <td>6.243420e+03</td>\n",
       "      <td>2017.000000</td>\n",
       "    </tr>\n",
       "    <tr>\n",
       "      <th>max</th>\n",
       "      <td>3.250000</td>\n",
       "      <td>6.250565e+07</td>\n",
       "      <td>2.274362e+07</td>\n",
       "      <td>2.047057e+07</td>\n",
       "      <td>2.546439e+06</td>\n",
       "      <td>2018.000000</td>\n",
       "    </tr>\n",
       "  </tbody>\n",
       "</table>\n",
       "</div>"
      ],
      "text/plain": [
       "       AveragePrice  Total Volume          4046          4225          4770  \\\n",
       "count  18249.000000  1.824900e+04  1.824900e+04  1.824900e+04  1.824900e+04   \n",
       "mean       1.405978  8.506440e+05  2.930084e+05  2.951546e+05  2.283974e+04   \n",
       "std        0.402677  3.453545e+06  1.264989e+06  1.204120e+06  1.074641e+05   \n",
       "min        0.440000  8.456000e+01  0.000000e+00  0.000000e+00  0.000000e+00   \n",
       "25%        1.100000  1.083858e+04  8.540700e+02  3.008780e+03  0.000000e+00   \n",
       "50%        1.370000  1.073768e+05  8.645300e+03  2.906102e+04  1.849900e+02   \n",
       "75%        1.660000  4.329623e+05  1.110202e+05  1.502069e+05  6.243420e+03   \n",
       "max        3.250000  6.250565e+07  2.274362e+07  2.047057e+07  2.546439e+06   \n",
       "\n",
       "               year  \n",
       "count  18249.000000  \n",
       "mean    2016.147899  \n",
       "std        0.939938  \n",
       "min     2015.000000  \n",
       "25%     2015.000000  \n",
       "50%     2016.000000  \n",
       "75%     2017.000000  \n",
       "max     2018.000000  "
      ]
     },
     "execution_count": 10,
     "metadata": {},
     "output_type": "execute_result"
    }
   ],
   "source": [
    "df.describe()"
   ]
  },
  {
   "cell_type": "code",
   "execution_count": 11,
   "id": "1e56e619",
   "metadata": {},
   "outputs": [
    {
     "data": {
      "text/html": [
       "<div>\n",
       "<style scoped>\n",
       "    .dataframe tbody tr th:only-of-type {\n",
       "        vertical-align: middle;\n",
       "    }\n",
       "\n",
       "    .dataframe tbody tr th {\n",
       "        vertical-align: top;\n",
       "    }\n",
       "\n",
       "    .dataframe thead th {\n",
       "        text-align: right;\n",
       "    }\n",
       "</style>\n",
       "<table border=\"1\" class=\"dataframe\">\n",
       "  <thead>\n",
       "    <tr style=\"text-align: right;\">\n",
       "      <th></th>\n",
       "      <th>Date</th>\n",
       "      <th>AveragePrice</th>\n",
       "      <th>Total Volume</th>\n",
       "      <th>4046</th>\n",
       "      <th>4225</th>\n",
       "      <th>4770</th>\n",
       "      <th>type</th>\n",
       "      <th>year</th>\n",
       "      <th>region</th>\n",
       "    </tr>\n",
       "  </thead>\n",
       "  <tbody>\n",
       "    <tr>\n",
       "      <th>0</th>\n",
       "      <td>27-12-2015</td>\n",
       "      <td>1.33</td>\n",
       "      <td>64236.62</td>\n",
       "      <td>1036.74</td>\n",
       "      <td>54454.85</td>\n",
       "      <td>48.16</td>\n",
       "      <td>conventional</td>\n",
       "      <td>2015</td>\n",
       "      <td>Albany</td>\n",
       "    </tr>\n",
       "    <tr>\n",
       "      <th>1</th>\n",
       "      <td>20-12-2015</td>\n",
       "      <td>1.35</td>\n",
       "      <td>54876.98</td>\n",
       "      <td>674.28</td>\n",
       "      <td>44638.81</td>\n",
       "      <td>58.33</td>\n",
       "      <td>conventional</td>\n",
       "      <td>2015</td>\n",
       "      <td>Albany</td>\n",
       "    </tr>\n",
       "    <tr>\n",
       "      <th>2</th>\n",
       "      <td>13-12-2015</td>\n",
       "      <td>0.93</td>\n",
       "      <td>118220.22</td>\n",
       "      <td>794.70</td>\n",
       "      <td>109149.67</td>\n",
       "      <td>130.50</td>\n",
       "      <td>conventional</td>\n",
       "      <td>2015</td>\n",
       "      <td>Albany</td>\n",
       "    </tr>\n",
       "    <tr>\n",
       "      <th>3</th>\n",
       "      <td>06-12-2015</td>\n",
       "      <td>1.08</td>\n",
       "      <td>78992.15</td>\n",
       "      <td>1132.00</td>\n",
       "      <td>71976.41</td>\n",
       "      <td>72.58</td>\n",
       "      <td>conventional</td>\n",
       "      <td>2015</td>\n",
       "      <td>Albany</td>\n",
       "    </tr>\n",
       "    <tr>\n",
       "      <th>4</th>\n",
       "      <td>29-11-2015</td>\n",
       "      <td>1.28</td>\n",
       "      <td>51039.60</td>\n",
       "      <td>941.48</td>\n",
       "      <td>43838.39</td>\n",
       "      <td>75.78</td>\n",
       "      <td>conventional</td>\n",
       "      <td>2015</td>\n",
       "      <td>Albany</td>\n",
       "    </tr>\n",
       "  </tbody>\n",
       "</table>\n",
       "</div>"
      ],
      "text/plain": [
       "         Date  AveragePrice  Total Volume     4046       4225    4770  \\\n",
       "0  27-12-2015          1.33      64236.62  1036.74   54454.85   48.16   \n",
       "1  20-12-2015          1.35      54876.98   674.28   44638.81   58.33   \n",
       "2  13-12-2015          0.93     118220.22   794.70  109149.67  130.50   \n",
       "3  06-12-2015          1.08      78992.15  1132.00   71976.41   72.58   \n",
       "4  29-11-2015          1.28      51039.60   941.48   43838.39   75.78   \n",
       "\n",
       "           type  year  region  \n",
       "0  conventional  2015  Albany  \n",
       "1  conventional  2015  Albany  \n",
       "2  conventional  2015  Albany  \n",
       "3  conventional  2015  Albany  \n",
       "4  conventional  2015  Albany  "
      ]
     },
     "execution_count": 11,
     "metadata": {},
     "output_type": "execute_result"
    }
   ],
   "source": [
    "df.head()"
   ]
  },
  {
   "cell_type": "code",
   "execution_count": 12,
   "id": "00e0ef7a",
   "metadata": {},
   "outputs": [],
   "source": [
    "df[['Date','Month','Year']] = df['Date'].str.split(\"-\",expand = True)"
   ]
  },
  {
   "cell_type": "code",
   "execution_count": 13,
   "id": "d70279cb",
   "metadata": {},
   "outputs": [],
   "source": [
    "# converting objects into integer datatype\n",
    "\n",
    "df[['Date','Month','Year']] = df[['Date','Month','Year']].astype(int)"
   ]
  },
  {
   "cell_type": "code",
   "execution_count": 14,
   "id": "a3d52e0c",
   "metadata": {},
   "outputs": [
    {
     "data": {
      "text/html": [
       "<div>\n",
       "<style scoped>\n",
       "    .dataframe tbody tr th:only-of-type {\n",
       "        vertical-align: middle;\n",
       "    }\n",
       "\n",
       "    .dataframe tbody tr th {\n",
       "        vertical-align: top;\n",
       "    }\n",
       "\n",
       "    .dataframe thead th {\n",
       "        text-align: right;\n",
       "    }\n",
       "</style>\n",
       "<table border=\"1\" class=\"dataframe\">\n",
       "  <thead>\n",
       "    <tr style=\"text-align: right;\">\n",
       "      <th></th>\n",
       "      <th>Date</th>\n",
       "      <th>AveragePrice</th>\n",
       "      <th>Total Volume</th>\n",
       "      <th>4046</th>\n",
       "      <th>4225</th>\n",
       "      <th>4770</th>\n",
       "      <th>type</th>\n",
       "      <th>year</th>\n",
       "      <th>region</th>\n",
       "      <th>Month</th>\n",
       "      <th>Year</th>\n",
       "    </tr>\n",
       "  </thead>\n",
       "  <tbody>\n",
       "    <tr>\n",
       "      <th>0</th>\n",
       "      <td>27</td>\n",
       "      <td>1.33</td>\n",
       "      <td>64236.62</td>\n",
       "      <td>1036.74</td>\n",
       "      <td>54454.85</td>\n",
       "      <td>48.16</td>\n",
       "      <td>conventional</td>\n",
       "      <td>2015</td>\n",
       "      <td>Albany</td>\n",
       "      <td>12</td>\n",
       "      <td>2015</td>\n",
       "    </tr>\n",
       "    <tr>\n",
       "      <th>1</th>\n",
       "      <td>20</td>\n",
       "      <td>1.35</td>\n",
       "      <td>54876.98</td>\n",
       "      <td>674.28</td>\n",
       "      <td>44638.81</td>\n",
       "      <td>58.33</td>\n",
       "      <td>conventional</td>\n",
       "      <td>2015</td>\n",
       "      <td>Albany</td>\n",
       "      <td>12</td>\n",
       "      <td>2015</td>\n",
       "    </tr>\n",
       "    <tr>\n",
       "      <th>2</th>\n",
       "      <td>13</td>\n",
       "      <td>0.93</td>\n",
       "      <td>118220.22</td>\n",
       "      <td>794.70</td>\n",
       "      <td>109149.67</td>\n",
       "      <td>130.50</td>\n",
       "      <td>conventional</td>\n",
       "      <td>2015</td>\n",
       "      <td>Albany</td>\n",
       "      <td>12</td>\n",
       "      <td>2015</td>\n",
       "    </tr>\n",
       "    <tr>\n",
       "      <th>3</th>\n",
       "      <td>6</td>\n",
       "      <td>1.08</td>\n",
       "      <td>78992.15</td>\n",
       "      <td>1132.00</td>\n",
       "      <td>71976.41</td>\n",
       "      <td>72.58</td>\n",
       "      <td>conventional</td>\n",
       "      <td>2015</td>\n",
       "      <td>Albany</td>\n",
       "      <td>12</td>\n",
       "      <td>2015</td>\n",
       "    </tr>\n",
       "    <tr>\n",
       "      <th>4</th>\n",
       "      <td>29</td>\n",
       "      <td>1.28</td>\n",
       "      <td>51039.60</td>\n",
       "      <td>941.48</td>\n",
       "      <td>43838.39</td>\n",
       "      <td>75.78</td>\n",
       "      <td>conventional</td>\n",
       "      <td>2015</td>\n",
       "      <td>Albany</td>\n",
       "      <td>11</td>\n",
       "      <td>2015</td>\n",
       "    </tr>\n",
       "  </tbody>\n",
       "</table>\n",
       "</div>"
      ],
      "text/plain": [
       "   Date  AveragePrice  Total Volume     4046       4225    4770          type  \\\n",
       "0    27          1.33      64236.62  1036.74   54454.85   48.16  conventional   \n",
       "1    20          1.35      54876.98   674.28   44638.81   58.33  conventional   \n",
       "2    13          0.93     118220.22   794.70  109149.67  130.50  conventional   \n",
       "3     6          1.08      78992.15  1132.00   71976.41   72.58  conventional   \n",
       "4    29          1.28      51039.60   941.48   43838.39   75.78  conventional   \n",
       "\n",
       "   year  region  Month  Year  \n",
       "0  2015  Albany     12  2015  \n",
       "1  2015  Albany     12  2015  \n",
       "2  2015  Albany     12  2015  \n",
       "3  2015  Albany     12  2015  \n",
       "4  2015  Albany     11  2015  "
      ]
     },
     "execution_count": 14,
     "metadata": {},
     "output_type": "execute_result"
    }
   ],
   "source": [
    "df.head()"
   ]
  },
  {
   "cell_type": "code",
   "execution_count": 15,
   "id": "dee44993",
   "metadata": {},
   "outputs": [
    {
     "data": {
      "text/plain": [
       "Year\n",
       "2017    5722\n",
       "2016    5616\n",
       "2015    5615\n",
       "2018    1296\n",
       "Name: count, dtype: int64"
      ]
     },
     "execution_count": 15,
     "metadata": {},
     "output_type": "execute_result"
    }
   ],
   "source": [
    "df['Year'].value_counts()"
   ]
  },
  {
   "cell_type": "code",
   "execution_count": 16,
   "id": "147d219c",
   "metadata": {},
   "outputs": [
    {
     "data": {
      "text/plain": [
       "year\n",
       "2017    5722\n",
       "2016    5616\n",
       "2015    5615\n",
       "2018    1296\n",
       "Name: count, dtype: int64"
      ]
     },
     "execution_count": 16,
     "metadata": {},
     "output_type": "execute_result"
    }
   ],
   "source": [
    "df[\"year\"].value_counts()"
   ]
  },
  {
   "cell_type": "markdown",
   "id": "96ab0fe2",
   "metadata": {},
   "source": [
    "Now we can notice we have 2 columns for years and both having same unique values so droping one of them."
   ]
  },
  {
   "cell_type": "code",
   "execution_count": 17,
   "id": "dd12e999",
   "metadata": {},
   "outputs": [],
   "source": [
    "df.drop(['year'],axis=1, inplace=True)"
   ]
  },
  {
   "cell_type": "code",
   "execution_count": 18,
   "id": "8b592777",
   "metadata": {},
   "outputs": [
    {
     "data": {
      "text/plain": [
       "2"
      ]
     },
     "execution_count": 18,
     "metadata": {},
     "output_type": "execute_result"
    }
   ],
   "source": [
    "df['type'].nunique()"
   ]
  },
  {
   "cell_type": "markdown",
   "id": "292ba75c",
   "metadata": {},
   "source": [
    "As we can see we only have two type so we are droping the column because all values are same"
   ]
  },
  {
   "cell_type": "code",
   "execution_count": 19,
   "id": "68f7e425",
   "metadata": {},
   "outputs": [],
   "source": [
    "df.drop(['type'],axis=1,inplace=True)"
   ]
  },
  {
   "cell_type": "code",
   "execution_count": 20,
   "id": "99774219",
   "metadata": {},
   "outputs": [
    {
     "name": "stdout",
     "output_type": "stream",
     "text": [
      "<class 'pandas.core.frame.DataFrame'>\n",
      "RangeIndex: 18249 entries, 0 to 18248\n",
      "Data columns (total 9 columns):\n",
      " #   Column        Non-Null Count  Dtype  \n",
      "---  ------        --------------  -----  \n",
      " 0   Date          18249 non-null  int32  \n",
      " 1   AveragePrice  18249 non-null  float64\n",
      " 2   Total Volume  18249 non-null  float64\n",
      " 3   4046          18249 non-null  float64\n",
      " 4   4225          18249 non-null  float64\n",
      " 5   4770          18249 non-null  float64\n",
      " 6   region        18249 non-null  object \n",
      " 7   Month         18249 non-null  int32  \n",
      " 8   Year          18249 non-null  int32  \n",
      "dtypes: float64(5), int32(3), object(1)\n",
      "memory usage: 1.0+ MB\n"
     ]
    }
   ],
   "source": [
    "df.info()"
   ]
  },
  {
   "cell_type": "markdown",
   "id": "32c3f642",
   "metadata": {},
   "source": [
    "No missing values in the dataset\n",
    "  \n"
   ]
  },
  {
   "cell_type": "markdown",
   "id": "dea15802",
   "metadata": {},
   "source": [
    "There is no minimum value = 0\n",
    "  "
   ]
  },
  {
   "cell_type": "markdown",
   "id": "2b4ad456",
   "metadata": {},
   "source": [
    "Now 8 numerical and 1 object columns in the dataset"
   ]
  },
  {
   "cell_type": "markdown",
   "id": "3f4579eb",
   "metadata": {},
   "source": [
    "## Now out data is ready for further work"
   ]
  },
  {
   "cell_type": "markdown",
   "id": "9b9b08f1",
   "metadata": {},
   "source": [
    "### EDA"
   ]
  },
  {
   "cell_type": "code",
   "execution_count": 21,
   "id": "b1bb7f1c",
   "metadata": {},
   "outputs": [],
   "source": [
    "from scipy.stats import skew\n",
    "import matplotlib.pyplot as plt\n",
    "import warnings\n",
    "warnings.filterwarnings('ignore')"
   ]
  },
  {
   "cell_type": "code",
   "execution_count": 22,
   "id": "b9941ada",
   "metadata": {},
   "outputs": [
    {
     "data": {
      "text/html": [
       "<div>\n",
       "<style scoped>\n",
       "    .dataframe tbody tr th:only-of-type {\n",
       "        vertical-align: middle;\n",
       "    }\n",
       "\n",
       "    .dataframe tbody tr th {\n",
       "        vertical-align: top;\n",
       "    }\n",
       "\n",
       "    .dataframe thead th {\n",
       "        text-align: right;\n",
       "    }\n",
       "</style>\n",
       "<table border=\"1\" class=\"dataframe\">\n",
       "  <thead>\n",
       "    <tr style=\"text-align: right;\">\n",
       "      <th></th>\n",
       "      <th>Date</th>\n",
       "      <th>AveragePrice</th>\n",
       "      <th>Total Volume</th>\n",
       "      <th>4046</th>\n",
       "      <th>4225</th>\n",
       "      <th>4770</th>\n",
       "      <th>region</th>\n",
       "      <th>Month</th>\n",
       "      <th>Year</th>\n",
       "    </tr>\n",
       "  </thead>\n",
       "  <tbody>\n",
       "    <tr>\n",
       "      <th>0</th>\n",
       "      <td>27</td>\n",
       "      <td>1.33</td>\n",
       "      <td>64236.62</td>\n",
       "      <td>1036.74</td>\n",
       "      <td>54454.85</td>\n",
       "      <td>48.16</td>\n",
       "      <td>Albany</td>\n",
       "      <td>12</td>\n",
       "      <td>2015</td>\n",
       "    </tr>\n",
       "    <tr>\n",
       "      <th>1</th>\n",
       "      <td>20</td>\n",
       "      <td>1.35</td>\n",
       "      <td>54876.98</td>\n",
       "      <td>674.28</td>\n",
       "      <td>44638.81</td>\n",
       "      <td>58.33</td>\n",
       "      <td>Albany</td>\n",
       "      <td>12</td>\n",
       "      <td>2015</td>\n",
       "    </tr>\n",
       "    <tr>\n",
       "      <th>2</th>\n",
       "      <td>13</td>\n",
       "      <td>0.93</td>\n",
       "      <td>118220.22</td>\n",
       "      <td>794.70</td>\n",
       "      <td>109149.67</td>\n",
       "      <td>130.50</td>\n",
       "      <td>Albany</td>\n",
       "      <td>12</td>\n",
       "      <td>2015</td>\n",
       "    </tr>\n",
       "    <tr>\n",
       "      <th>3</th>\n",
       "      <td>6</td>\n",
       "      <td>1.08</td>\n",
       "      <td>78992.15</td>\n",
       "      <td>1132.00</td>\n",
       "      <td>71976.41</td>\n",
       "      <td>72.58</td>\n",
       "      <td>Albany</td>\n",
       "      <td>12</td>\n",
       "      <td>2015</td>\n",
       "    </tr>\n",
       "    <tr>\n",
       "      <th>4</th>\n",
       "      <td>29</td>\n",
       "      <td>1.28</td>\n",
       "      <td>51039.60</td>\n",
       "      <td>941.48</td>\n",
       "      <td>43838.39</td>\n",
       "      <td>75.78</td>\n",
       "      <td>Albany</td>\n",
       "      <td>11</td>\n",
       "      <td>2015</td>\n",
       "    </tr>\n",
       "  </tbody>\n",
       "</table>\n",
       "</div>"
      ],
      "text/plain": [
       "   Date  AveragePrice  Total Volume     4046       4225    4770  region  \\\n",
       "0    27          1.33      64236.62  1036.74   54454.85   48.16  Albany   \n",
       "1    20          1.35      54876.98   674.28   44638.81   58.33  Albany   \n",
       "2    13          0.93     118220.22   794.70  109149.67  130.50  Albany   \n",
       "3     6          1.08      78992.15  1132.00   71976.41   72.58  Albany   \n",
       "4    29          1.28      51039.60   941.48   43838.39   75.78  Albany   \n",
       "\n",
       "   Month  Year  \n",
       "0     12  2015  \n",
       "1     12  2015  \n",
       "2     12  2015  \n",
       "3     12  2015  \n",
       "4     11  2015  "
      ]
     },
     "execution_count": 22,
     "metadata": {},
     "output_type": "execute_result"
    }
   ],
   "source": [
    "df.head()"
   ]
  },
  {
   "cell_type": "code",
   "execution_count": 23,
   "id": "bec6e986",
   "metadata": {},
   "outputs": [
    {
     "data": {
      "text/html": [
       "<div>\n",
       "<style scoped>\n",
       "    .dataframe tbody tr th:only-of-type {\n",
       "        vertical-align: middle;\n",
       "    }\n",
       "\n",
       "    .dataframe tbody tr th {\n",
       "        vertical-align: top;\n",
       "    }\n",
       "\n",
       "    .dataframe thead th {\n",
       "        text-align: right;\n",
       "    }\n",
       "</style>\n",
       "<table border=\"1\" class=\"dataframe\">\n",
       "  <thead>\n",
       "    <tr style=\"text-align: right;\">\n",
       "      <th></th>\n",
       "      <th>Date</th>\n",
       "      <th>AveragePrice</th>\n",
       "      <th>Total Volume</th>\n",
       "      <th>4046</th>\n",
       "      <th>4225</th>\n",
       "      <th>4770</th>\n",
       "      <th>Month</th>\n",
       "      <th>Year</th>\n",
       "    </tr>\n",
       "  </thead>\n",
       "  <tbody>\n",
       "    <tr>\n",
       "      <th>Date</th>\n",
       "      <td>1.000000</td>\n",
       "      <td>0.027386</td>\n",
       "      <td>-0.009747</td>\n",
       "      <td>-0.010159</td>\n",
       "      <td>-0.012393</td>\n",
       "      <td>-0.009009</td>\n",
       "      <td>0.010621</td>\n",
       "      <td>0.004475</td>\n",
       "    </tr>\n",
       "    <tr>\n",
       "      <th>AveragePrice</th>\n",
       "      <td>0.027386</td>\n",
       "      <td>1.000000</td>\n",
       "      <td>-0.192752</td>\n",
       "      <td>-0.208317</td>\n",
       "      <td>-0.172928</td>\n",
       "      <td>-0.179446</td>\n",
       "      <td>0.162409</td>\n",
       "      <td>0.093197</td>\n",
       "    </tr>\n",
       "    <tr>\n",
       "      <th>Total Volume</th>\n",
       "      <td>-0.009747</td>\n",
       "      <td>-0.192752</td>\n",
       "      <td>1.000000</td>\n",
       "      <td>0.977863</td>\n",
       "      <td>0.974181</td>\n",
       "      <td>0.872202</td>\n",
       "      <td>-0.024689</td>\n",
       "      <td>0.017193</td>\n",
       "    </tr>\n",
       "    <tr>\n",
       "      <th>4046</th>\n",
       "      <td>-0.010159</td>\n",
       "      <td>-0.208317</td>\n",
       "      <td>0.977863</td>\n",
       "      <td>1.000000</td>\n",
       "      <td>0.926110</td>\n",
       "      <td>0.833389</td>\n",
       "      <td>-0.025803</td>\n",
       "      <td>0.003353</td>\n",
       "    </tr>\n",
       "    <tr>\n",
       "      <th>4225</th>\n",
       "      <td>-0.012393</td>\n",
       "      <td>-0.172928</td>\n",
       "      <td>0.974181</td>\n",
       "      <td>0.926110</td>\n",
       "      <td>1.000000</td>\n",
       "      <td>0.887855</td>\n",
       "      <td>-0.022108</td>\n",
       "      <td>-0.009559</td>\n",
       "    </tr>\n",
       "    <tr>\n",
       "      <th>4770</th>\n",
       "      <td>-0.009009</td>\n",
       "      <td>-0.179446</td>\n",
       "      <td>0.872202</td>\n",
       "      <td>0.833389</td>\n",
       "      <td>0.887855</td>\n",
       "      <td>1.000000</td>\n",
       "      <td>-0.033424</td>\n",
       "      <td>-0.036531</td>\n",
       "    </tr>\n",
       "    <tr>\n",
       "      <th>Month</th>\n",
       "      <td>0.010621</td>\n",
       "      <td>0.162409</td>\n",
       "      <td>-0.024689</td>\n",
       "      <td>-0.025803</td>\n",
       "      <td>-0.022108</td>\n",
       "      <td>-0.033424</td>\n",
       "      <td>1.000000</td>\n",
       "      <td>-0.177050</td>\n",
       "    </tr>\n",
       "    <tr>\n",
       "      <th>Year</th>\n",
       "      <td>0.004475</td>\n",
       "      <td>0.093197</td>\n",
       "      <td>0.017193</td>\n",
       "      <td>0.003353</td>\n",
       "      <td>-0.009559</td>\n",
       "      <td>-0.036531</td>\n",
       "      <td>-0.177050</td>\n",
       "      <td>1.000000</td>\n",
       "    </tr>\n",
       "  </tbody>\n",
       "</table>\n",
       "</div>"
      ],
      "text/plain": [
       "                  Date  AveragePrice  Total Volume      4046      4225  \\\n",
       "Date          1.000000      0.027386     -0.009747 -0.010159 -0.012393   \n",
       "AveragePrice  0.027386      1.000000     -0.192752 -0.208317 -0.172928   \n",
       "Total Volume -0.009747     -0.192752      1.000000  0.977863  0.974181   \n",
       "4046         -0.010159     -0.208317      0.977863  1.000000  0.926110   \n",
       "4225         -0.012393     -0.172928      0.974181  0.926110  1.000000   \n",
       "4770         -0.009009     -0.179446      0.872202  0.833389  0.887855   \n",
       "Month         0.010621      0.162409     -0.024689 -0.025803 -0.022108   \n",
       "Year          0.004475      0.093197      0.017193  0.003353 -0.009559   \n",
       "\n",
       "                  4770     Month      Year  \n",
       "Date         -0.009009  0.010621  0.004475  \n",
       "AveragePrice -0.179446  0.162409  0.093197  \n",
       "Total Volume  0.872202 -0.024689  0.017193  \n",
       "4046          0.833389 -0.025803  0.003353  \n",
       "4225          0.887855 -0.022108 -0.009559  \n",
       "4770          1.000000 -0.033424 -0.036531  \n",
       "Month        -0.033424  1.000000 -0.177050  \n",
       "Year         -0.036531 -0.177050  1.000000  "
      ]
     },
     "execution_count": 23,
     "metadata": {},
     "output_type": "execute_result"
    }
   ],
   "source": [
    "df.corr(numeric_only=True)"
   ]
  },
  {
   "cell_type": "code",
   "execution_count": 24,
   "id": "7acca229",
   "metadata": {},
   "outputs": [
    {
     "data": {
      "text/plain": [
       "<Axes: >"
      ]
     },
     "execution_count": 24,
     "metadata": {},
     "output_type": "execute_result"
    },
    {
     "data": {
      "image/png": "[encoded data removed]",
      "text/plain": [
       "<Figure size 2000x700 with 2 Axes>"
      ]
     },
     "metadata": {},
     "output_type": "display_data"
    }
   ],
   "source": [
    "plt.figure(figsize=(20,7))\n",
    "sns.heatmap(df.corr(numeric_only=True),annot=True,linewidths=1,linecolor='white',cmap='magma')"
   ]
  },
  {
   "cell_type": "raw",
   "id": "ce176353",
   "metadata": {},
   "source": [
    "Observation:-\n",
    "\n",
    "  - we don't see any column fairely correlated with Average price\n",
    "  - Some of them are negatively correlated with data\n",
    "  - columns\n",
    "        - 4046 - Total number of avocados with PLU 4046 sold\n",
    "        - 4225 - Total number of avocados with PLU 4225 sold\n",
    "        - 4770 - Total number of avocados with PLU 4770 sold\n",
    "        - Total Volume - Total number of avacados sold\n",
    "        \n",
    "        are highly correlated with each other, that could be possible because they all are sold  information."
   ]
  },
  {
   "cell_type": "code",
   "execution_count": 25,
   "id": "5c0243e0",
   "metadata": {},
   "outputs": [
    {
     "data": {
      "text/plain": [
       "<Axes: xlabel='Date', ylabel='Count'>"
      ]
     },
     "execution_count": 25,
     "metadata": {},
     "output_type": "execute_result"
    },
    {
     "data": {
      "image/png": "[encoded data removed]",
      "text/plain": [
       "<Figure size 1000x500 with 1 Axes>"
      ]
     },
     "metadata": {},
     "output_type": "display_data"
    }
   ],
   "source": [
    "plt.figure(figsize=(10,5))\n",
    "sns.histplot(df['Date'],bins=30)"
   ]
  },
  {
   "cell_type": "raw",
   "id": "87e17470",
   "metadata": {},
   "source": [
    ":- Sold on everyday is around 400 to 600 avocado\n",
    ":- maximum sold in a day\n",
    ":- we can notice after every 6 days there is hike in sell        that must be the weekend."
   ]
  },
  {
   "cell_type": "code",
   "execution_count": 26,
   "id": "46ece88d",
   "metadata": {},
   "outputs": [
    {
     "data": {
      "image/png": "[encoded data removed]",
      "text/plain": [
       "<Figure size 1000x500 with 1 Axes>"
      ]
     },
     "metadata": {},
     "output_type": "display_data"
    }
   ],
   "source": [
    "plt.figure(figsize=(10,5))\n",
    "plt.scatter(df['AveragePrice'],df['Total Volume'],c='Red')\n",
    "plt.xlabel('The average price of a single avocado')\n",
    "plt.ylabel('Total number of avocado sold')\n",
    "plt.show()"
   ]
  },
  {
   "cell_type": "raw",
   "id": "ae9505b1",
   "metadata": {},
   "source": [
    ":- max average price seems 0.05 to 1.2 \n",
    ":- having outliers as well."
   ]
  },
  {
   "cell_type": "code",
   "execution_count": 27,
   "id": "cdcbb47a",
   "metadata": {},
   "outputs": [
    {
     "data": {
      "image/png": "[encoded data removed]",
      "text/plain": [
       "<Figure size 1000x500 with 1 Axes>"
      ]
     },
     "metadata": {},
     "output_type": "display_data"
    }
   ],
   "source": [
    "plt.figure(figsize=(10,5))\n",
    "plt.scatter(df['AveragePrice'],df['4225'],c='blue')\n",
    "plt.xlabel('The average price of a single avovado')\n",
    "plt.ylabel('Total number of avocado with PLU 4225 sold')\n",
    "plt.show()"
   ]
  },
  {
   "cell_type": "raw",
   "id": "3676a16e",
   "metadata": {},
   "source": [
    ":- Here we also see maximum average price is 0.08 to 0.60\n",
    ":- having outliers as well"
   ]
  },
  {
   "cell_type": "code",
   "execution_count": 28,
   "id": "d883acbd",
   "metadata": {},
   "outputs": [
    {
     "data": {
      "image/png": "[encoded data removed]",
      "text/plain": [
       "<Figure size 1000x500 with 1 Axes>"
      ]
     },
     "metadata": {},
     "output_type": "display_data"
    }
   ],
   "source": [
    "plt.figure(figsize=(10,5))\n",
    "plt.scatter(df['AveragePrice'],df['4046'],c='green')\n",
    "plt.xlabel('The average price of a single avocado')\n",
    "plt.ylabel('Total numbel of avocado with PLU 4046 sold')\n",
    "plt.show()"
   ]
  },
  {
   "cell_type": "raw",
   "id": "462212dd",
   "metadata": {},
   "source": [
    ":-Here we can see maximum average price is 0.07 to .60\n",
    ":-having outliers as well"
   ]
  },
  {
   "cell_type": "code",
   "execution_count": 29,
   "id": "44aa6f00",
   "metadata": {},
   "outputs": [
    {
     "data": {
      "text/plain": [
       "<Axes: xlabel='Year', ylabel='count'>"
      ]
     },
     "execution_count": 29,
     "metadata": {},
     "output_type": "execute_result"
    },
    {
     "data": {
      "image/png": "[encoded data removed]",
      "text/plain": [
       "<Figure size 640x480 with 1 Axes>"
      ]
     },
     "metadata": {},
     "output_type": "display_data"
    }
   ],
   "source": [
    "sns.countplot(x='Year',data=df)"
   ]
  },
  {
   "cell_type": "markdown",
   "id": "3abf31de",
   "metadata": {},
   "source": [
    ":- Here we can see maximum avocado data in the 2015,2016 and 2017."
   ]
  },
  {
   "cell_type": "code",
   "execution_count": 30,
   "id": "d6625457",
   "metadata": {},
   "outputs": [
    {
     "data": {
      "text/plain": [
       "<Axes: xlabel='Month', ylabel='count'>"
      ]
     },
     "execution_count": 30,
     "metadata": {},
     "output_type": "execute_result"
    },
    {
     "data": {
      "image/png": "[encoded data removed]",
      "text/plain": [
       "<Figure size 640x480 with 1 Axes>"
      ]
     },
     "metadata": {},
     "output_type": "display_data"
    }
   ],
   "source": [
    "sns.countplot(x='Month',data=df)"
   ]
  },
  {
   "cell_type": "raw",
   "id": "22fb2d39",
   "metadata": {},
   "source": [
    ":- Here we can see maximum avocado are sold in month 1,2 and 3."
   ]
  },
  {
   "cell_type": "markdown",
   "id": "54d3ec03",
   "metadata": {},
   "source": [
    "## Using LabelEncoder for converting categorical to numerical."
   ]
  },
  {
   "cell_type": "code",
   "execution_count": 31,
   "id": "3c5b5121",
   "metadata": {},
   "outputs": [
    {
     "name": "stdout",
     "output_type": "stream",
     "text": [
      "<class 'pandas.core.frame.DataFrame'>\n",
      "RangeIndex: 18249 entries, 0 to 18248\n",
      "Data columns (total 9 columns):\n",
      " #   Column        Non-Null Count  Dtype  \n",
      "---  ------        --------------  -----  \n",
      " 0   Date          18249 non-null  int32  \n",
      " 1   AveragePrice  18249 non-null  float64\n",
      " 2   Total Volume  18249 non-null  float64\n",
      " 3   4046          18249 non-null  float64\n",
      " 4   4225          18249 non-null  float64\n",
      " 5   4770          18249 non-null  float64\n",
      " 6   region        18249 non-null  object \n",
      " 7   Month         18249 non-null  int32  \n",
      " 8   Year          18249 non-null  int32  \n",
      "dtypes: float64(5), int32(3), object(1)\n",
      "memory usage: 1.0+ MB\n"
     ]
    }
   ],
   "source": [
    "df.info()"
   ]
  },
  {
   "cell_type": "code",
   "execution_count": 32,
   "id": "f05688e8",
   "metadata": {},
   "outputs": [],
   "source": [
    "from sklearn import preprocessing\n",
    "le=preprocessing.LabelEncoder()\n",
    "df['region']=le.fit_transform(df['region'])"
   ]
  },
  {
   "cell_type": "code",
   "execution_count": 33,
   "id": "42702b3a",
   "metadata": {},
   "outputs": [
    {
     "name": "stdout",
     "output_type": "stream",
     "text": [
      "<class 'pandas.core.frame.DataFrame'>\n",
      "RangeIndex: 18249 entries, 0 to 18248\n",
      "Data columns (total 9 columns):\n",
      " #   Column        Non-Null Count  Dtype  \n",
      "---  ------        --------------  -----  \n",
      " 0   Date          18249 non-null  int32  \n",
      " 1   AveragePrice  18249 non-null  float64\n",
      " 2   Total Volume  18249 non-null  float64\n",
      " 3   4046          18249 non-null  float64\n",
      " 4   4225          18249 non-null  float64\n",
      " 5   4770          18249 non-null  float64\n",
      " 6   region        18249 non-null  int32  \n",
      " 7   Month         18249 non-null  int32  \n",
      " 8   Year          18249 non-null  int32  \n",
      "dtypes: float64(5), int32(4)\n",
      "memory usage: 998.1 KB\n"
     ]
    }
   ],
   "source": [
    "df.info()"
   ]
  },
  {
   "cell_type": "markdown",
   "id": "778d1594",
   "metadata": {},
   "source": [
    "so after using LabelEncoder data set having only float42(5) and int32(4) numerical columns."
   ]
  },
  {
   "cell_type": "markdown",
   "id": "3ce6b810",
   "metadata": {},
   "source": [
    "## Skewness handling"
   ]
  },
  {
   "cell_type": "code",
   "execution_count": 34,
   "id": "793a9e03",
   "metadata": {},
   "outputs": [
    {
     "data": {
      "image/png": "[encoded data removed]",
      "text/plain": [
       "<Figure size 2500x2000 with 9 Axes>"
      ]
     },
     "metadata": {},
     "output_type": "display_data"
    }
   ],
   "source": [
    "plt.figure(figsize=(25,20))\n",
    "for i in enumerate(df.columns):\n",
    "    plt.subplot(5,3,i[0]+1)\n",
    "    sns.distplot(df[i[1]],color='g')"
   ]
  },
  {
   "cell_type": "code",
   "execution_count": 35,
   "id": "c87449c9",
   "metadata": {},
   "outputs": [
    {
     "data": {
      "text/plain": [
       "Date             0.014310\n",
       "AveragePrice     0.580303\n",
       "Total Volume     9.007687\n",
       "4046             8.648220\n",
       "4225             8.942466\n",
       "4770            10.159396\n",
       "region           0.000030\n",
       "Month            0.106617\n",
       "Year             0.215339\n",
       "dtype: float64"
      ]
     },
     "execution_count": 35,
     "metadata": {},
     "output_type": "execute_result"
    }
   ],
   "source": [
    "df.skew()"
   ]
  },
  {
   "cell_type": "raw",
   "id": "9d161c42",
   "metadata": {},
   "source": [
    "Skewness mor than +/-0.5 will be treated\n",
    "\n",
    "- we can see here most of the columns are skewed\n",
    "- will only deal with numerical columns\n",
    "- Total Volume\n",
    "- 4046\n",
    "- 4225\n",
    "- 4770\n",
    "  will be treated"
   ]
  },
  {
   "cell_type": "code",
   "execution_count": 36,
   "id": "7579e9fb",
   "metadata": {},
   "outputs": [],
   "source": [
    "from sklearn.preprocessing import power_transform\n",
    "\n",
    "df[['AveragePrice','Total Volume','4046','4225','4770']]=power_transform(df[['AveragePrice','Total Volume','4046','4225','4770']],method='yeo-johnson')"
   ]
  },
  {
   "cell_type": "code",
   "execution_count": 37,
   "id": "1b08fab7",
   "metadata": {},
   "outputs": [
    {
     "data": {
      "text/plain": [
       "Date            0.014310\n",
       "AveragePrice    0.005596\n",
       "Total Volume    0.011171\n",
       "4046           -0.022679\n",
       "4225           -0.017740\n",
       "4770            0.032184\n",
       "region          0.000030\n",
       "Month           0.106617\n",
       "Year            0.215339\n",
       "dtype: float64"
      ]
     },
     "execution_count": 37,
     "metadata": {},
     "output_type": "execute_result"
    }
   ],
   "source": [
    "df.skew()"
   ]
  },
  {
   "cell_type": "markdown",
   "id": "2edd02f1",
   "metadata": {},
   "source": [
    "So here from the above cell we can see skewness removed from all columns"
   ]
  },
  {
   "cell_type": "markdown",
   "id": "91cf0035",
   "metadata": {},
   "source": [
    "## Outliers handling"
   ]
  },
  {
   "cell_type": "code",
   "execution_count": 38,
   "id": "3bda723e",
   "metadata": {},
   "outputs": [
    {
     "data": {
      "image/png": "[encoded data removed]",
      "text/plain": [
       "<Figure size 1800x1000 with 9 Axes>"
      ]
     },
     "metadata": {},
     "output_type": "display_data"
    }
   ],
   "source": [
    "plt.figure(figsize=(18,10))\n",
    "for i in enumerate(df):\n",
    "    plt.subplot(3,5,i[0]+1)\n",
    "    sns.boxplot(df[i[1]])"
   ]
  },
  {
   "cell_type": "markdown",
   "id": "8ca910ac",
   "metadata": {},
   "source": [
    ":- Target and PLU 4225 columns seems having outliers after removed."
   ]
  },
  {
   "cell_type": "markdown",
   "id": "78bdfe9f",
   "metadata": {},
   "source": [
    "## Zscore Method"
   ]
  },
  {
   "cell_type": "code",
   "execution_count": 39,
   "id": "b171559b",
   "metadata": {},
   "outputs": [
    {
     "name": "stdout",
     "output_type": "stream",
     "text": [
      "(array([ 1716,  2699,  5506,  7412,  8366,  9097, 10381, 14124, 14125,\n",
      "       15261, 15262, 15473, 16055, 16720, 17428], dtype=int64), array([1, 4, 4, 1, 4, 4, 2, 1, 1, 1, 1, 1, 1, 1, 1], dtype=int64))\n"
     ]
    }
   ],
   "source": [
    "from scipy.stats import zscore\n",
    "z=np.abs(zscore(df))\n",
    "print(np.where(z>3))"
   ]
  },
  {
   "cell_type": "code",
   "execution_count": 40,
   "id": "49a026b9",
   "metadata": {},
   "outputs": [
    {
     "name": "stdout",
     "output_type": "stream",
     "text": [
      "with outliers: (18249, 9)\n",
      "After removing outliers:: (18234, 9)\n"
     ]
    }
   ],
   "source": [
    "df_1=df[(z<3).all(axis=1)]\n",
    "print('with outliers:',df.shape)\n",
    "print('After removing outliers::',df_1.shape)"
   ]
  },
  {
   "cell_type": "markdown",
   "id": "af543c90",
   "metadata": {},
   "source": [
    ":-We can notice zscore removed all rows from the dataset ,whick is totally not good for prediction So here remove outliers with IQR method"
   ]
  },
  {
   "cell_type": "markdown",
   "id": "50b0e34e",
   "metadata": {},
   "source": [
    "## IQR Method "
   ]
  },
  {
   "cell_type": "code",
   "execution_count": 41,
   "id": "379367c9",
   "metadata": {},
   "outputs": [
    {
     "data": {
      "text/plain": [
       "15.106852544382283"
      ]
     },
     "execution_count": 41,
     "metadata": {},
     "output_type": "execute_result"
    }
   ],
   "source": [
    "from scipy import stats\n",
    "IQR=stats.iqr(df)\n",
    "IQR\n"
   ]
  },
  {
   "cell_type": "code",
   "execution_count": 42,
   "id": "c90315f6",
   "metadata": {},
   "outputs": [
    {
     "name": "stdout",
     "output_type": "stream",
     "text": [
      "(15210, 9)\n"
     ]
    }
   ],
   "source": [
    "Q1=df.quantile()\n",
    "Q3=df.quantile()\n",
    "df_out=df[~((df < (Q1 - 1.5 * IQR)) | (df > (Q3 + 1.5 * IQR))).any(axis=1)]\n",
    "print(df_out.shape)"
   ]
  },
  {
   "cell_type": "markdown",
   "id": "d1b3ee82",
   "metadata": {},
   "source": [
    "so by using IQR method 3039 rows removed and data have 15210 rows and 9 columns so considering IQR Method as there is huge data loss using zscore method."
   ]
  },
  {
   "cell_type": "code",
   "execution_count": 43,
   "id": "af25ec25",
   "metadata": {},
   "outputs": [],
   "source": [
    "df=df_out"
   ]
  },
  {
   "cell_type": "markdown",
   "id": "fc92d28e",
   "metadata": {},
   "source": [
    "## Dividing Data into X and Y"
   ]
  },
  {
   "cell_type": "code",
   "execution_count": 44,
   "id": "1a391ec3",
   "metadata": {},
   "outputs": [],
   "source": [
    "x=df.drop(['AveragePrice'],axis=1)\n",
    "y=df['AveragePrice']"
   ]
  },
  {
   "cell_type": "code",
   "execution_count": 45,
   "id": "e3f5d846",
   "metadata": {},
   "outputs": [
    {
     "data": {
      "text/plain": [
       "(15210, 8)"
      ]
     },
     "execution_count": 45,
     "metadata": {},
     "output_type": "execute_result"
    }
   ],
   "source": [
    "x.shape"
   ]
  },
  {
   "cell_type": "code",
   "execution_count": 46,
   "id": "5b845af8",
   "metadata": {},
   "outputs": [
    {
     "data": {
      "text/plain": [
       "(15210,)"
      ]
     },
     "execution_count": 46,
     "metadata": {},
     "output_type": "execute_result"
    }
   ],
   "source": [
    "y.shape"
   ]
  },
  {
   "cell_type": "markdown",
   "id": "6d22f309",
   "metadata": {},
   "source": [
    "## Scaling X values"
   ]
  },
  {
   "cell_type": "code",
   "execution_count": 47,
   "id": "60c93e6a",
   "metadata": {},
   "outputs": [],
   "source": [
    "from sklearn.preprocessing import MinMaxScaler\n",
    "sc=MinMaxScaler()\n",
    "x=sc.fit_transform(x)"
   ]
  },
  {
   "cell_type": "markdown",
   "id": "e65cdab1",
   "metadata": {},
   "source": [
    ":- data have been scalled"
   ]
  },
  {
   "cell_type": "code",
   "execution_count": 48,
   "id": "5284f60f",
   "metadata": {},
   "outputs": [
    {
     "data": {
      "text/plain": [
       "0    0\n",
       "1    0\n",
       "2    0\n",
       "3    0\n",
       "4    0\n",
       "5    0\n",
       "6    0\n",
       "7    0\n",
       "dtype: int64"
      ]
     },
     "execution_count": 48,
     "metadata": {},
     "output_type": "execute_result"
    }
   ],
   "source": [
    "pd.DataFrame(x).isnull().sum()"
   ]
  },
  {
   "cell_type": "code",
   "execution_count": 49,
   "id": "ec38cc35",
   "metadata": {},
   "outputs": [
    {
     "data": {
      "text/html": [
       "<div>\n",
       "<style scoped>\n",
       "    .dataframe tbody tr th:only-of-type {\n",
       "        vertical-align: middle;\n",
       "    }\n",
       "\n",
       "    .dataframe tbody tr th {\n",
       "        vertical-align: top;\n",
       "    }\n",
       "\n",
       "    .dataframe thead th {\n",
       "        text-align: right;\n",
       "    }\n",
       "</style>\n",
       "<table border=\"1\" class=\"dataframe\">\n",
       "  <thead>\n",
       "    <tr style=\"text-align: right;\">\n",
       "      <th></th>\n",
       "      <th>0</th>\n",
       "      <th>1</th>\n",
       "      <th>2</th>\n",
       "      <th>3</th>\n",
       "      <th>4</th>\n",
       "      <th>5</th>\n",
       "      <th>6</th>\n",
       "      <th>7</th>\n",
       "    </tr>\n",
       "  </thead>\n",
       "  <tbody>\n",
       "    <tr>\n",
       "      <th>count</th>\n",
       "      <td>15210.000000</td>\n",
       "      <td>15210.000000</td>\n",
       "      <td>15210.000000</td>\n",
       "      <td>15210.000000</td>\n",
       "      <td>15210.000000</td>\n",
       "      <td>15210.000000</td>\n",
       "      <td>15210.000000</td>\n",
       "      <td>15210.000000</td>\n",
       "    </tr>\n",
       "    <tr>\n",
       "      <th>mean</th>\n",
       "      <td>0.488757</td>\n",
       "      <td>0.603531</td>\n",
       "      <td>0.518980</td>\n",
       "      <td>0.536515</td>\n",
       "      <td>0.386583</td>\n",
       "      <td>0.500000</td>\n",
       "      <td>0.470683</td>\n",
       "      <td>0.382643</td>\n",
       "    </tr>\n",
       "    <tr>\n",
       "      <th>std</th>\n",
       "      <td>0.292540</td>\n",
       "      <td>0.181646</td>\n",
       "      <td>0.210127</td>\n",
       "      <td>0.188724</td>\n",
       "      <td>0.310788</td>\n",
       "      <td>0.295173</td>\n",
       "      <td>0.321284</td>\n",
       "      <td>0.313316</td>\n",
       "    </tr>\n",
       "    <tr>\n",
       "      <th>min</th>\n",
       "      <td>0.000000</td>\n",
       "      <td>0.000000</td>\n",
       "      <td>0.000000</td>\n",
       "      <td>0.000000</td>\n",
       "      <td>0.000000</td>\n",
       "      <td>0.000000</td>\n",
       "      <td>0.000000</td>\n",
       "      <td>0.000000</td>\n",
       "    </tr>\n",
       "    <tr>\n",
       "      <th>25%</th>\n",
       "      <td>0.233333</td>\n",
       "      <td>0.439388</td>\n",
       "      <td>0.363927</td>\n",
       "      <td>0.399874</td>\n",
       "      <td>0.000000</td>\n",
       "      <td>0.250000</td>\n",
       "      <td>0.181818</td>\n",
       "      <td>0.000000</td>\n",
       "    </tr>\n",
       "    <tr>\n",
       "      <th>50%</th>\n",
       "      <td>0.500000</td>\n",
       "      <td>0.634895</td>\n",
       "      <td>0.510331</td>\n",
       "      <td>0.548129</td>\n",
       "      <td>0.420619</td>\n",
       "      <td>0.500000</td>\n",
       "      <td>0.454545</td>\n",
       "      <td>0.333333</td>\n",
       "    </tr>\n",
       "    <tr>\n",
       "      <th>75%</th>\n",
       "      <td>0.733333</td>\n",
       "      <td>0.737031</td>\n",
       "      <td>0.684834</td>\n",
       "      <td>0.677545</td>\n",
       "      <td>0.668390</td>\n",
       "      <td>0.750000</td>\n",
       "      <td>0.727273</td>\n",
       "      <td>0.666667</td>\n",
       "    </tr>\n",
       "    <tr>\n",
       "      <th>max</th>\n",
       "      <td>1.000000</td>\n",
       "      <td>1.000000</td>\n",
       "      <td>1.000000</td>\n",
       "      <td>1.000000</td>\n",
       "      <td>1.000000</td>\n",
       "      <td>1.000000</td>\n",
       "      <td>1.000000</td>\n",
       "      <td>1.000000</td>\n",
       "    </tr>\n",
       "  </tbody>\n",
       "</table>\n",
       "</div>"
      ],
      "text/plain": [
       "                  0             1             2             3             4  \\\n",
       "count  15210.000000  15210.000000  15210.000000  15210.000000  15210.000000   \n",
       "mean       0.488757      0.603531      0.518980      0.536515      0.386583   \n",
       "std        0.292540      0.181646      0.210127      0.188724      0.310788   \n",
       "min        0.000000      0.000000      0.000000      0.000000      0.000000   \n",
       "25%        0.233333      0.439388      0.363927      0.399874      0.000000   \n",
       "50%        0.500000      0.634895      0.510331      0.548129      0.420619   \n",
       "75%        0.733333      0.737031      0.684834      0.677545      0.668390   \n",
       "max        1.000000      1.000000      1.000000      1.000000      1.000000   \n",
       "\n",
       "                  5             6             7  \n",
       "count  15210.000000  15210.000000  15210.000000  \n",
       "mean       0.500000      0.470683      0.382643  \n",
       "std        0.295173      0.321284      0.313316  \n",
       "min        0.000000      0.000000      0.000000  \n",
       "25%        0.250000      0.181818      0.000000  \n",
       "50%        0.500000      0.454545      0.333333  \n",
       "75%        0.750000      0.727273      0.666667  \n",
       "max        1.000000      1.000000      1.000000  "
      ]
     },
     "execution_count": 49,
     "metadata": {},
     "output_type": "execute_result"
    }
   ],
   "source": [
    "pd.DataFrame(x).describe()"
   ]
  },
  {
   "cell_type": "markdown",
   "id": "e7b535e7",
   "metadata": {},
   "source": [
    ":- data also have scalled"
   ]
  },
  {
   "cell_type": "markdown",
   "id": "daf56e7f",
   "metadata": {},
   "source": [
    "## Splitting the data for Training and Testing."
   ]
  },
  {
   "cell_type": "code",
   "execution_count": 50,
   "id": "f3af016f",
   "metadata": {},
   "outputs": [],
   "source": [
    "from sklearn.metrics import mean_squared_error,mean_absolute_error\n",
    "from sklearn.metrics import r2_score\n",
    "from sklearn.model_selection import train_test_split\n",
    "from sklearn.model_selection import cross_val_score"
   ]
  },
  {
   "cell_type": "markdown",
   "id": "84173dde",
   "metadata": {},
   "source": [
    "## Lets find the best random state in below cell"
   ]
  },
  {
   "cell_type": "code",
   "execution_count": 51,
   "id": "988ec7c3",
   "metadata": {},
   "outputs": [
    {
     "name": "stdout",
     "output_type": "stream",
     "text": [
      "At random state 0, The training accuracy is :-0.4774529840921874\n",
      "At random state 0, The testing accuracy is :-0.44697292281250844\n",
      "\n",
      "\n",
      "At random state 1, The training accuracy is :-0.46786570953113016\n",
      "At random state 1, The testing accuracy is :-0.48206992290064554\n",
      "\n",
      "\n",
      "At random state 2, The training accuracy is :-0.47001902557259434\n",
      "At random state 2, The testing accuracy is :-0.47447222245408716\n",
      "\n",
      "\n",
      "At random state 3, The training accuracy is :-0.47014238026440003\n",
      "At random state 3, The testing accuracy is :-0.4741148503582133\n",
      "\n",
      "\n",
      "At random state 4, The training accuracy is :-0.4727258642903561\n",
      "At random state 4, The testing accuracy is :-0.4648826339725184\n",
      "\n",
      "\n",
      "At random state 5, The training accuracy is :-0.47116580429907606\n",
      "At random state 5, The testing accuracy is :-0.4705739921413058\n",
      "\n",
      "\n",
      "At random state 6, The training accuracy is :-0.46919261260659084\n",
      "At random state 6, The testing accuracy is :-0.47741293666484685\n",
      "\n",
      "\n",
      "At random state 7, The training accuracy is :-0.4739881328072285\n",
      "At random state 7, The testing accuracy is :-0.46053255537058113\n",
      "\n",
      "\n",
      "At random state 8, The training accuracy is :-0.4740998812082218\n",
      "At random state 8, The testing accuracy is :-0.46054566094926497\n",
      "\n",
      "\n",
      "At random state 9, The training accuracy is :-0.46867603272871805\n",
      "At random state 9, The testing accuracy is :-0.47849345992190195\n",
      "\n",
      "\n",
      "At random state 10, The training accuracy is :-0.47462533541396856\n",
      "At random state 10, The testing accuracy is :-0.4584835566497937\n",
      "\n",
      "\n",
      "At random state 11, The training accuracy is :-0.4675024902859447\n",
      "At random state 11, The testing accuracy is :-0.4831776391349559\n",
      "\n",
      "\n",
      "At random state 12, The training accuracy is :-0.47332985439246134\n",
      "At random state 12, The testing accuracy is :-0.4630949333833432\n",
      "\n",
      "\n",
      "At random state 13, The training accuracy is :-0.47571144185972536\n",
      "At random state 13, The testing accuracy is :-0.45371781470576344\n",
      "\n",
      "\n",
      "At random state 14, The training accuracy is :-0.4715222517833767\n",
      "At random state 14, The testing accuracy is :-0.46874270966253617\n",
      "\n",
      "\n",
      "At random state 15, The training accuracy is :-0.469003766320195\n",
      "At random state 15, The testing accuracy is :-0.4780554061966933\n",
      "\n",
      "\n",
      "At random state 16, The training accuracy is :-0.4710485230271815\n",
      "At random state 16, The testing accuracy is :-0.4711228311140524\n",
      "\n",
      "\n",
      "At random state 17, The training accuracy is :-0.4718253939479228\n",
      "At random state 17, The testing accuracy is :-0.46721528263326606\n",
      "\n",
      "\n",
      "At random state 18, The training accuracy is :-0.46797051197625084\n",
      "At random state 18, The testing accuracy is :-0.4821209818230763\n",
      "\n",
      "\n",
      "At random state 19, The training accuracy is :-0.4712737307302619\n",
      "At random state 19, The testing accuracy is :-0.47032151648036447\n",
      "\n",
      "\n",
      "At random state 20, The training accuracy is :-0.4708679282407544\n",
      "At random state 20, The testing accuracy is :-0.4713327987588207\n",
      "\n",
      "\n",
      "At random state 21, The training accuracy is :-0.47174621925198346\n",
      "At random state 21, The testing accuracy is :-0.4687652668838789\n",
      "\n",
      "\n",
      "At random state 22, The training accuracy is :-0.47070400741647367\n",
      "At random state 22, The testing accuracy is :-0.4723216217522732\n",
      "\n",
      "\n",
      "At random state 23, The training accuracy is :-0.46771000278135766\n",
      "At random state 23, The testing accuracy is :-0.4831069621834603\n",
      "\n",
      "\n",
      "At random state 24, The training accuracy is :-0.4701438728218461\n",
      "At random state 24, The testing accuracy is :-0.4738075348677685\n",
      "\n",
      "\n",
      "At random state 25, The training accuracy is :-0.47242285203655143\n",
      "At random state 25, The testing accuracy is :-0.4656963124099791\n",
      "\n",
      "\n",
      "At random state 26, The training accuracy is :-0.4710351368542892\n",
      "At random state 26, The testing accuracy is :-0.4708519543110745\n",
      "\n",
      "\n",
      "At random state 27, The training accuracy is :-0.4715964553902522\n",
      "At random state 27, The testing accuracy is :-0.46896563982759765\n",
      "\n",
      "\n",
      "At random state 28, The training accuracy is :-0.4683135202619595\n",
      "At random state 28, The testing accuracy is :-0.48092033120292643\n",
      "\n",
      "\n",
      "At random state 29, The training accuracy is :-0.4719602058307939\n",
      "At random state 29, The testing accuracy is :-0.46768211063503373\n",
      "\n",
      "\n",
      "At random state 30, The training accuracy is :-0.4722549565060198\n",
      "At random state 30, The testing accuracy is :-0.4666295003119606\n",
      "\n",
      "\n",
      "At random state 31, The training accuracy is :-0.47343960676046337\n",
      "At random state 31, The testing accuracy is :-0.4621061732006485\n",
      "\n",
      "\n",
      "At random state 32, The training accuracy is :-0.4715616009257495\n",
      "At random state 32, The testing accuracy is :-0.469212738920039\n",
      "\n",
      "\n",
      "At random state 33, The training accuracy is :-0.4670077951852878\n",
      "At random state 33, The testing accuracy is :-0.48538730678379416\n",
      "\n",
      "\n",
      "At random state 34, The training accuracy is :-0.47222857068012836\n",
      "At random state 34, The testing accuracy is :-0.4664995335743565\n",
      "\n",
      "\n",
      "At random state 35, The training accuracy is :-0.47534024107017225\n",
      "At random state 35, The testing accuracy is :-0.4550831042018677\n",
      "\n",
      "\n",
      "At random state 36, The training accuracy is :-0.47395323293228986\n",
      "At random state 36, The testing accuracy is :-0.4603875748190548\n",
      "\n",
      "\n",
      "At random state 37, The training accuracy is :-0.46496087090689786\n",
      "At random state 37, The testing accuracy is :-0.49128785776206174\n",
      "\n",
      "\n",
      "At random state 38, The training accuracy is :-0.4693454425423643\n",
      "At random state 38, The testing accuracy is :-0.47700647795404616\n",
      "\n",
      "\n",
      "At random state 39, The training accuracy is :-0.4715386148428665\n",
      "At random state 39, The testing accuracy is :-0.46907617637029864\n",
      "\n",
      "\n",
      "At random state 40, The training accuracy is :-0.47153063271127316\n",
      "At random state 40, The testing accuracy is :-0.46928852617755556\n",
      "\n",
      "\n",
      "At random state 41, The training accuracy is :-0.4713159073146437\n",
      "At random state 41, The testing accuracy is :-0.4697973232405095\n",
      "\n",
      "\n",
      "At random state 42, The training accuracy is :-0.4678417455311159\n",
      "At random state 42, The testing accuracy is :-0.483224095143845\n",
      "\n",
      "\n",
      "At random state 43, The training accuracy is :-0.4694321440981838\n",
      "At random state 43, The testing accuracy is :-0.4760888199937976\n",
      "\n",
      "\n",
      "At random state 44, The training accuracy is :-0.4731731074142126\n",
      "At random state 44, The testing accuracy is :-0.46253414697459394\n",
      "\n",
      "\n",
      "At random state 45, The training accuracy is :-0.46792271777704864\n",
      "At random state 45, The testing accuracy is :-0.48182024726716055\n",
      "\n",
      "\n",
      "At random state 46, The training accuracy is :-0.471290456477668\n",
      "At random state 46, The testing accuracy is :-0.4701553006344137\n",
      "\n",
      "\n",
      "At random state 47, The training accuracy is :-0.4702954328527037\n",
      "At random state 47, The testing accuracy is :-0.4738812315961226\n",
      "\n",
      "\n",
      "At random state 48, The training accuracy is :-0.47245168870963217\n",
      "At random state 48, The testing accuracy is :-0.46537546137117425\n",
      "\n",
      "\n",
      "At random state 49, The training accuracy is :-0.46759774865762527\n",
      "At random state 49, The testing accuracy is :-0.48280051278342884\n",
      "\n",
      "\n",
      "At random state 50, The training accuracy is :-0.4738535132418118\n",
      "At random state 50, The testing accuracy is :-0.46099178798107\n",
      "\n",
      "\n",
      "At random state 51, The training accuracy is :-0.4723031400839206\n",
      "At random state 51, The testing accuracy is :-0.46674334076215973\n",
      "\n",
      "\n",
      "At random state 52, The training accuracy is :-0.46746263246686837\n",
      "At random state 52, The testing accuracy is :-0.4830612479112385\n",
      "\n",
      "\n",
      "At random state 53, The training accuracy is :-0.47385602271937743\n",
      "At random state 53, The testing accuracy is :-0.46047686002566013\n",
      "\n",
      "\n",
      "At random state 54, The training accuracy is :-0.4717100809916386\n",
      "At random state 54, The testing accuracy is :-0.46833439782388075\n",
      "\n",
      "\n",
      "At random state 55, The training accuracy is :-0.46978533888616447\n",
      "At random state 55, The testing accuracy is :-0.47536023895433477\n",
      "\n",
      "\n",
      "At random state 56, The training accuracy is :-0.47028536847457236\n",
      "At random state 56, The testing accuracy is :-0.47398186094679573\n",
      "\n",
      "\n",
      "At random state 57, The training accuracy is :-0.4709786365123235\n",
      "At random state 57, The testing accuracy is :-0.47145157303585594\n",
      "\n",
      "\n",
      "At random state 58, The training accuracy is :-0.46661549761091814\n",
      "At random state 58, The testing accuracy is :-0.48590948561768166\n",
      "\n",
      "\n",
      "At random state 59, The training accuracy is :-0.4727787204624111\n",
      "At random state 59, The testing accuracy is :-0.4645246021407182\n",
      "\n",
      "\n",
      "At random state 60, The training accuracy is :-0.4718967963967031\n",
      "At random state 60, The testing accuracy is :-0.46808734066041546\n",
      "\n",
      "\n",
      "At random state 61, The training accuracy is :-0.4651868617699175\n",
      "At random state 61, The testing accuracy is :-0.4926747032388773\n",
      "\n",
      "\n",
      "At random state 62, The training accuracy is :-0.46947523639019084\n",
      "At random state 62, The testing accuracy is :-0.4766364126470972\n",
      "\n",
      "\n",
      "At random state 63, The training accuracy is :-0.47580460741101616\n",
      "At random state 63, The testing accuracy is :-0.45418661344705724\n",
      "\n",
      "\n",
      "At random state 64, The training accuracy is :-0.4707947851019456\n",
      "At random state 64, The testing accuracy is :-0.4721576372308247\n",
      "\n",
      "\n",
      "At random state 65, The training accuracy is :-0.46817624509899847\n",
      "At random state 65, The testing accuracy is :-0.48128925909665454\n",
      "\n",
      "\n",
      "At random state 66, The training accuracy is :-0.4721999426116109\n",
      "At random state 66, The testing accuracy is :-0.46701173581811284\n",
      "\n",
      "\n",
      "At random state 67, The training accuracy is :-0.4699075379425267\n",
      "At random state 67, The testing accuracy is :-0.47495087832198857\n",
      "\n",
      "\n",
      "At random state 68, The training accuracy is :-0.46899669844515635\n",
      "At random state 68, The testing accuracy is :-0.47847041929018885\n",
      "\n",
      "\n",
      "At random state 69, The training accuracy is :-0.46890054277040316\n",
      "At random state 69, The testing accuracy is :-0.47858993246041137\n",
      "\n",
      "\n",
      "At random state 70, The training accuracy is :-0.47325545037952765\n",
      "At random state 70, The testing accuracy is :-0.4633129215563734\n",
      "\n",
      "\n",
      "At random state 71, The training accuracy is :-0.4705873349306403\n",
      "At random state 71, The testing accuracy is :-0.47223685052507947\n",
      "\n",
      "\n",
      "At random state 72, The training accuracy is :-0.46602322133087926\n",
      "At random state 72, The testing accuracy is :-0.4878110623524037\n",
      "\n",
      "\n",
      "At random state 73, The training accuracy is :-0.46768084397157705\n",
      "At random state 73, The testing accuracy is :-0.48307076885401845\n",
      "\n",
      "\n",
      "At random state 74, The training accuracy is :-0.4707525206761223\n",
      "At random state 74, The testing accuracy is :-0.472265814306163\n",
      "\n",
      "\n",
      "At random state 75, The training accuracy is :-0.46835453068544797\n",
      "At random state 75, The testing accuracy is :-0.4802115063047404\n",
      "\n",
      "\n",
      "At random state 76, The training accuracy is :-0.47003781389439625\n",
      "At random state 76, The testing accuracy is :-0.4744640477498344\n",
      "\n",
      "\n",
      "At random state 77, The training accuracy is :-0.4760586036140566\n",
      "At random state 77, The testing accuracy is :-0.45156697067258367\n",
      "\n",
      "\n",
      "At random state 78, The training accuracy is :-0.47174693281490454\n",
      "At random state 78, The testing accuracy is :-0.4682890632836215\n",
      "\n",
      "\n",
      "At random state 79, The training accuracy is :-0.47201315826305223\n",
      "At random state 79, The testing accuracy is :-0.46734157530536213\n",
      "\n",
      "\n",
      "At random state 80, The training accuracy is :-0.4702963713539152\n",
      "At random state 80, The testing accuracy is :-0.4736822856896392\n",
      "\n",
      "\n",
      "At random state 81, The training accuracy is :-0.4748725375939499\n",
      "At random state 81, The testing accuracy is :-0.45729293528356685\n",
      "\n",
      "\n",
      "At random state 82, The training accuracy is :-0.4762217673694922\n",
      "At random state 82, The testing accuracy is :-0.45166415472694443\n",
      "\n",
      "\n",
      "At random state 83, The training accuracy is :-0.47494678940316015\n",
      "At random state 83, The testing accuracy is :-0.4565342597277876\n",
      "\n",
      "\n",
      "At random state 84, The training accuracy is :-0.47160194166214686\n",
      "At random state 84, The testing accuracy is :-0.469058268418141\n",
      "\n",
      "\n",
      "At random state 85, The training accuracy is :-0.47600416817444724\n",
      "At random state 85, The testing accuracy is :-0.45351009798248254\n",
      "\n",
      "\n",
      "At random state 86, The training accuracy is :-0.47477426687082447\n",
      "At random state 86, The testing accuracy is :-0.45817425434512216\n",
      "\n",
      "\n",
      "At random state 87, The training accuracy is :-0.4718497177860368\n",
      "At random state 87, The testing accuracy is :-0.46733750539028784\n",
      "\n",
      "\n",
      "At random state 88, The training accuracy is :-0.47894700532896317\n",
      "At random state 88, The testing accuracy is :-0.44226966737739426\n",
      "\n",
      "\n",
      "At random state 89, The training accuracy is :-0.47771121705234854\n",
      "At random state 89, The testing accuracy is :-0.44624041881297793\n",
      "\n",
      "\n",
      "At random state 90, The training accuracy is :-0.47073691896055503\n",
      "At random state 90, The testing accuracy is :-0.4719626736097309\n",
      "\n",
      "\n",
      "At random state 91, The training accuracy is :-0.4659558672901828\n",
      "At random state 91, The testing accuracy is :-0.4883546598142815\n",
      "\n",
      "\n",
      "At random state 92, The training accuracy is :-0.4768319235880316\n",
      "At random state 92, The testing accuracy is :-0.4510657512889943\n",
      "\n",
      "\n",
      "At random state 93, The training accuracy is :-0.4761230526406529\n",
      "At random state 93, The testing accuracy is :-0.45401895978615225\n",
      "\n",
      "\n",
      "At random state 94, The training accuracy is :-0.4659390487249423\n",
      "At random state 94, The testing accuracy is :-0.4883713126153847\n",
      "\n",
      "\n",
      "At random state 95, The training accuracy is :-0.4690742403786228\n",
      "At random state 95, The testing accuracy is :-0.47777097107570565\n",
      "\n",
      "\n",
      "At random state 96, The training accuracy is :-0.47388898744482877\n",
      "At random state 96, The testing accuracy is :-0.4607606861420185\n",
      "\n",
      "\n",
      "At random state 97, The training accuracy is :-0.47402380803076216\n",
      "At random state 97, The testing accuracy is :-0.4602458237321657\n",
      "\n",
      "\n",
      "At random state 98, The training accuracy is :-0.469817876879986\n",
      "At random state 98, The testing accuracy is :-0.4755223661053166\n",
      "\n",
      "\n",
      "At random state 99, The training accuracy is :-0.4663844657649242\n",
      "At random state 99, The testing accuracy is :-0.4864721841779329\n",
      "\n",
      "\n"
     ]
    }
   ],
   "source": [
    "from sklearn.linear_model import LinearRegression\n",
    "\n",
    "LR=LinearRegression()\n",
    "\n",
    "for i in range(0,100):\n",
    "    x_train,x_test,y_train,y_test=train_test_split(x,y,test_size=0.22,random_state=i)\n",
    "    LR.fit(x_train,y_train)\n",
    "    LR_predict_train=LR.predict(x_train)\n",
    "    LR_predict_test=LR.predict(x_test)\n",
    "    print(f'At random state {i}, The training accuracy is :-{r2_score(y_train,LR_predict_train)}')\n",
    "    print(f'At random state {i}, The testing accuracy is :-{r2_score(y_test,LR_predict_test)}')\n",
    "    print('\\n')"
   ]
  },
  {
   "cell_type": "markdown",
   "id": "77e1ab72",
   "metadata": {},
   "source": [
    ":- random state = 48 giving highest accuracy, choosing that as random state."
   ]
  },
  {
   "cell_type": "code",
   "execution_count": 52,
   "id": "e3117710",
   "metadata": {},
   "outputs": [],
   "source": [
    "# splitting the data into 78% traning and 22% testing.\n",
    "x_train,x_test,y_train,y_test=train_test_split(x,y,test_size=0.22,random_state=24)\n"
   ]
  },
  {
   "cell_type": "code",
   "execution_count": 53,
   "id": "87b32106",
   "metadata": {},
   "outputs": [
    {
     "data": {
      "text/plain": [
       "(11863, 8)"
      ]
     },
     "execution_count": 53,
     "metadata": {},
     "output_type": "execute_result"
    }
   ],
   "source": [
    "x_train.shape"
   ]
  },
  {
   "cell_type": "code",
   "execution_count": 54,
   "id": "6a669cbf",
   "metadata": {},
   "outputs": [
    {
     "data": {
      "text/plain": [
       "(3347, 8)"
      ]
     },
     "execution_count": 54,
     "metadata": {},
     "output_type": "execute_result"
    }
   ],
   "source": [
    "x_test.shape"
   ]
  },
  {
   "cell_type": "code",
   "execution_count": 55,
   "id": "69456f34",
   "metadata": {},
   "outputs": [
    {
     "data": {
      "text/plain": [
       "(11863,)"
      ]
     },
     "execution_count": 55,
     "metadata": {},
     "output_type": "execute_result"
    }
   ],
   "source": [
    "y_train.shape"
   ]
  },
  {
   "cell_type": "code",
   "execution_count": 56,
   "id": "e7bbe40a",
   "metadata": {},
   "outputs": [
    {
     "data": {
      "text/plain": [
       "(3347,)"
      ]
     },
     "execution_count": 56,
     "metadata": {},
     "output_type": "execute_result"
    }
   ],
   "source": [
    "y_test.shape"
   ]
  },
  {
   "cell_type": "markdown",
   "id": "09c4f955",
   "metadata": {},
   "source": [
    "# Model Building"
   ]
  },
  {
   "cell_type": "markdown",
   "id": "8520b516",
   "metadata": {},
   "source": [
    "## Linear Regression"
   ]
  },
  {
   "cell_type": "code",
   "execution_count": 57,
   "id": "159672dc",
   "metadata": {},
   "outputs": [
    {
     "name": "stdout",
     "output_type": "stream",
     "text": [
      "0.4701438728218461\n"
     ]
    }
   ],
   "source": [
    "from sklearn.linear_model import LinearRegression\n",
    "\n",
    "LR=LinearRegression()\n",
    "LR.fit(x_train,y_train)\n",
    "print(LR.score(x_train,y_train))\n",
    "LR_predict=LR.predict(x_test)"
   ]
  },
  {
   "cell_type": "code",
   "execution_count": 58,
   "id": "fcdc2e15",
   "metadata": {},
   "outputs": [
    {
     "name": "stdout",
     "output_type": "stream",
     "text": [
      "MSE: 0.5354973865751181\n",
      "MAE: 0.5834223826557507\n",
      "r2_score: -0.09349436305447556\n"
     ]
    }
   ],
   "source": [
    "print('MSE:',mean_squared_error(LR_predict,y_test))\n",
    "print('MAE:',mean_absolute_error(LR_predict,y_test))\n",
    "print('r2_score:',r2_score(LR_predict,y_test))"
   ]
  },
  {
   "cell_type": "markdown",
   "id": "9b2c8f03",
   "metadata": {},
   "source": [
    "## Ridge"
   ]
  },
  {
   "cell_type": "code",
   "execution_count": 59,
   "id": "facb8b7c",
   "metadata": {},
   "outputs": [
    {
     "name": "stdout",
     "output_type": "stream",
     "text": [
      "0.46993404407202644\n"
     ]
    }
   ],
   "source": [
    "from sklearn.linear_model import Ridge\n",
    "\n",
    "R=Ridge()\n",
    "R.fit(x_train,y_train)\n",
    "print(R.score(x_train,y_train))\n",
    "R_predict=R.predict(x_test)\n",
    "\n"
   ]
  },
  {
   "cell_type": "markdown",
   "id": "84899f97",
   "metadata": {},
   "source": [
    "## SVR"
   ]
  },
  {
   "cell_type": "code",
   "execution_count": 60,
   "id": "3ecd6cde",
   "metadata": {},
   "outputs": [
    {
     "name": "stdout",
     "output_type": "stream",
     "text": [
      "0.46753538909421033\n"
     ]
    }
   ],
   "source": [
    "from sklearn.svm import SVR\n",
    "\n",
    "svr=SVR(kernel='linear')\n",
    "svr.fit(x_train,y_train)\n",
    "print(svr.score(x_train,y_train))\n",
    "svr_predict=svr.predict(x_test)"
   ]
  },
  {
   "cell_type": "code",
   "execution_count": 61,
   "id": "27b8893f",
   "metadata": {},
   "outputs": [
    {
     "name": "stdout",
     "output_type": "stream",
     "text": [
      "MSE: 0.5390492863111398\n",
      "MAE: 0.5827702476930607\n",
      "r2_score: -0.10978602666725235\n"
     ]
    }
   ],
   "source": [
    "print('MSE:',mean_squared_error(svr_predict,y_test))\n",
    "print('MAE:',mean_absolute_error(svr_predict,y_test))\n",
    "print('r2_score:',r2_score(svr_predict,y_test))"
   ]
  },
  {
   "cell_type": "markdown",
   "id": "4421de12",
   "metadata": {},
   "source": [
    "## SVR(kernel='poly')"
   ]
  },
  {
   "cell_type": "code",
   "execution_count": 62,
   "id": "6d589151",
   "metadata": {},
   "outputs": [
    {
     "name": "stdout",
     "output_type": "stream",
     "text": [
      "0.5604370551788422\n"
     ]
    }
   ],
   "source": [
    "svr_p=SVR(kernel='poly')\n",
    "svr_p.fit(x_train,y_train)\n",
    "print(svr_p.score(x_train,y_train))\n",
    "svrpred_p=svr_p.predict(x_test)\n",
    "      "
   ]
  },
  {
   "cell_type": "code",
   "execution_count": 63,
   "id": "c59622f2",
   "metadata": {},
   "outputs": [
    {
     "name": "stdout",
     "output_type": "stream",
     "text": [
      "MSE: 0.4571540328334948\n",
      "MAE: 0.5252313864226499\n",
      "r2_score: 0.2044884448629979\n"
     ]
    }
   ],
   "source": [
    "print('MSE:',mean_squared_error(svrpred_p,y_test))\n",
    "print('MAE:',mean_absolute_error(svrpred_p,y_test))\n",
    "print('r2_score:',r2_score(svrpred_p,y_test))"
   ]
  },
  {
   "cell_type": "markdown",
   "id": "221b73b4",
   "metadata": {},
   "source": [
    "## SVR(kernel='rbf')"
   ]
  },
  {
   "cell_type": "code",
   "execution_count": 64,
   "id": "8dcb4e02",
   "metadata": {},
   "outputs": [
    {
     "name": "stdout",
     "output_type": "stream",
     "text": [
      "0.6925597337520455\n"
     ]
    }
   ],
   "source": [
    "svr_r=SVR(kernel='rbf')\n",
    "svr_r.fit(x_train,y_train)\n",
    "print(svr_r.score(x_train,y_train))\n",
    "svrpred_r=svr.predict(x_test)"
   ]
  },
  {
   "cell_type": "code",
   "execution_count": 65,
   "id": "b186c15a",
   "metadata": {},
   "outputs": [
    {
     "name": "stdout",
     "output_type": "stream",
     "text": [
      "MSE: 0.5390492863111398\n",
      "MAE: 0.5827702476930607\n",
      "r2_score: -0.10978602666725235\n"
     ]
    }
   ],
   "source": [
    "print('MSE:',mean_squared_error(svrpred_r,y_test))\n",
    "print('MAE:',mean_absolute_error(svrpred_r,y_test))\n",
    "print('r2_score:',r2_score(svrpred_r,y_test))"
   ]
  },
  {
   "cell_type": "markdown",
   "id": "18dab8a0",
   "metadata": {},
   "source": [
    "## Random Forest Regressor"
   ]
  },
  {
   "cell_type": "code",
   "execution_count": 66,
   "id": "bc7cf1b0",
   "metadata": {},
   "outputs": [
    {
     "name": "stdout",
     "output_type": "stream",
     "text": [
      "0.9857894823450415\n"
     ]
    }
   ],
   "source": [
    "from sklearn.ensemble import RandomForestRegressor\n",
    "\n",
    "RF=RandomForestRegressor()\n",
    "RF.fit(x_train,y_train)\n",
    "print(RF.score(x_train,y_train))\n",
    "RF_pred=RF.predict(x_test)"
   ]
  },
  {
   "cell_type": "code",
   "execution_count": 67,
   "id": "19241487",
   "metadata": {},
   "outputs": [
    {
     "name": "stdout",
     "output_type": "stream",
     "text": [
      "MSE: 0.10674800698649899\n",
      "MAE: 0.23141334509853492\n",
      "r2_score: 0.8693172916198746\n"
     ]
    }
   ],
   "source": [
    "print('MSE:',mean_squared_error(RF_pred,y_test))\n",
    "print('MAE:',mean_absolute_error(RF_pred,y_test))\n",
    "print('r2_score:',r2_score(RF_pred,y_test))"
   ]
  },
  {
   "cell_type": "markdown",
   "id": "d8d65462",
   "metadata": {},
   "source": [
    "## Decision Tree Regressor"
   ]
  },
  {
   "cell_type": "code",
   "execution_count": 68,
   "id": "5ee24754",
   "metadata": {},
   "outputs": [
    {
     "name": "stdout",
     "output_type": "stream",
     "text": [
      "1.0\n"
     ]
    }
   ],
   "source": [
    "from sklearn.tree import DecisionTreeRegressor\n",
    "\n",
    "DTR=DecisionTreeRegressor()\n",
    "DTR.fit(x_train,y_train)\n",
    "print(DTR.score(x_train,y_train))\n",
    "DTR_pred=DTR.predict(x_test)"
   ]
  },
  {
   "cell_type": "code",
   "execution_count": 69,
   "id": "3674b8f8",
   "metadata": {},
   "outputs": [
    {
     "name": "stdout",
     "output_type": "stream",
     "text": [
      "MSE: 0.21474714851012555\n",
      "MAE: 0.31205704883347846\n",
      "r2_score: 0.7880506934815493\n"
     ]
    }
   ],
   "source": [
    "print('MSE:',mean_squared_error(DTR_pred,y_test))\n",
    "print('MAE:',mean_absolute_error(DTR_pred,y_test))\n",
    "print('r2_score:',r2_score(DTR_pred,y_test))"
   ]
  },
  {
   "cell_type": "markdown",
   "id": "86467c29",
   "metadata": {},
   "source": [
    "## Gradient Boosting Regressor"
   ]
  },
  {
   "cell_type": "code",
   "execution_count": 70,
   "id": "1a207d23",
   "metadata": {},
   "outputs": [
    {
     "name": "stdout",
     "output_type": "stream",
     "text": [
      "0.7609939947855324\n"
     ]
    }
   ],
   "source": [
    "from sklearn.ensemble import GradientBoostingRegressor\n",
    "\n",
    "GBR=GradientBoostingRegressor()\n",
    "GBR.fit(x_train,y_train)\n",
    "print(GBR.score(x_train,y_train))\n",
    "GBR_pred=GBR.predict(x_test)"
   ]
  },
  {
   "cell_type": "code",
   "execution_count": 71,
   "id": "ce9436cd",
   "metadata": {},
   "outputs": [
    {
     "name": "stdout",
     "output_type": "stream",
     "text": [
      "MSE: 0.25311751434476853\n",
      "MAE: 0.3822203592287573\n",
      "r2_score: 0.5882782986817279\n"
     ]
    }
   ],
   "source": [
    "print('MSE:',mean_squared_error(GBR_pred,y_test))\n",
    "print('MAE:',mean_absolute_error(GBR_pred,y_test))\n",
    "print('r2_score:',r2_score(GBR_pred,y_test))"
   ]
  },
  {
   "cell_type": "markdown",
   "id": "f4f1b0b4",
   "metadata": {},
   "source": [
    "## Cross Validation"
   ]
  },
  {
   "cell_type": "code",
   "execution_count": 72,
   "id": "b14b7d71",
   "metadata": {},
   "outputs": [
    {
     "name": "stdout",
     "output_type": "stream",
     "text": [
      "LR : 0.566978, 0.167604\n",
      "R : 0.567505, 0.167171\n",
      "svr : 0.568283, 0.168876\n",
      "svr_p : 0.716724, 0.222221\n",
      "svr_r : 0.637855, 0.245382\n",
      "RF : 0.458779, 0.191559\n",
      "DTR : 0.843525, 0.266975\n",
      "GBR : 0.359504, 0.116284\n"
     ]
    }
   ],
   "source": [
    "from sklearn.model_selection import cross_val_score\n",
    "\n",
    "np.random.seed(10)\n",
    "def rmse_cv(model,x,y):\n",
    "    rmse=- (cross_val_score(model,x,y,scoring='neg_mean_squared_error',cv=10))\n",
    "    return(rmse)\n",
    "\n",
    "models=[LinearRegression(),\n",
    "       Ridge(),\n",
    "       SVR(kernel='linear'),\n",
    "       SVR(kernel='poly'),\n",
    "       SVR(kernel='rbf'),\n",
    "       RandomForestRegressor(),\n",
    "       DecisionTreeRegressor(),\n",
    "       GradientBoostingRegressor(),]\n",
    "names=['LR','R','svr','svr_p','svr_r','RF','DTR','GBR']\n",
    "\n",
    "for model,name in zip(models,names):\n",
    "    score=rmse_cv(model,x,y)\n",
    "    print(\"{} : {:.6f}, {:4f}\".format(name,score.mean(),score.std()))\n",
    "    "
   ]
  },
  {
   "cell_type": "markdown",
   "id": "da7e14e3",
   "metadata": {},
   "source": [
    "According to all metrics score selecting the Random Forest Regressor a final model for hyper tuning."
   ]
  },
  {
   "cell_type": "code",
   "execution_count": 73,
   "id": "b656320d",
   "metadata": {},
   "outputs": [],
   "source": [
    "from sklearn.model_selection import GridSearchCV"
   ]
  },
  {
   "cell_type": "code",
   "execution_count": 74,
   "id": "8522de1d",
   "metadata": {},
   "outputs": [],
   "source": [
    "RF = RandomForestRegressor()\n",
    "\n",
    "param ={\n",
    "       'n_estimators':[100,200],\n",
    "      'criterion':['mse','mae'],\n",
    "     'min_samples_split':[2],\n",
    "    'min_samples_leaf':[1],\n",
    "}"
   ]
  },
  {
   "cell_type": "code",
   "execution_count": 86,
   "id": "c41e7209",
   "metadata": {},
   "outputs": [
    {
     "name": "stdout",
     "output_type": "stream",
     "text": [
      "Fitting 4 folds for each of 4 candidates, totalling 16 fits\n"
     ]
    },
    {
     "ename": "ValueError",
     "evalue": "\nAll the 16 fits failed.\nIt is very likely that your model is misconfigured.\nYou can try to debug the error by setting error_score='raise'.\n\nBelow are more details about the failures:\n--------------------------------------------------------------------------------\n2 fits failed with the following error:\nTraceback (most recent call last):\n  File \"C:\\Users\\sanja\\anaconda3\\Lib\\site-packages\\sklearn\\model_selection\\_validation.py\", line 686, in _fit_and_score\n    estimator.fit(X_train, y_train, **fit_params)\n  File \"C:\\Users\\sanja\\anaconda3\\Lib\\site-packages\\sklearn\\ensemble\\_forest.py\", line 340, in fit\n    self._validate_params()\n  File \"C:\\Users\\sanja\\anaconda3\\Lib\\site-packages\\sklearn\\base.py\", line 600, in _validate_params\n    validate_parameter_constraints(\n  File \"C:\\Users\\sanja\\anaconda3\\Lib\\site-packages\\sklearn\\utils\\_param_validation.py\", line 97, in validate_parameter_constraints\n    raise InvalidParameterError(\nsklearn.utils._param_validation.InvalidParameterError: The 'criterion' parameter of RandomForestRegressor must be a str among {'absolute_error', 'friedman_mse', 'poisson', 'squared_error'}. Got 'mse' instead.\n\n--------------------------------------------------------------------------------\n2 fits failed with the following error:\nTraceback (most recent call last):\n  File \"C:\\Users\\sanja\\anaconda3\\Lib\\site-packages\\sklearn\\model_selection\\_validation.py\", line 686, in _fit_and_score\n    estimator.fit(X_train, y_train, **fit_params)\n  File \"C:\\Users\\sanja\\anaconda3\\Lib\\site-packages\\sklearn\\ensemble\\_forest.py\", line 340, in fit\n    self._validate_params()\n  File \"C:\\Users\\sanja\\anaconda3\\Lib\\site-packages\\sklearn\\base.py\", line 600, in _validate_params\n    validate_parameter_constraints(\n  File \"C:\\Users\\sanja\\anaconda3\\Lib\\site-packages\\sklearn\\utils\\_param_validation.py\", line 97, in validate_parameter_constraints\n    raise InvalidParameterError(\nsklearn.utils._param_validation.InvalidParameterError: The 'criterion' parameter of RandomForestRegressor must be a str among {'squared_error', 'friedman_mse', 'absolute_error', 'poisson'}. Got 'mse' instead.\n\n--------------------------------------------------------------------------------\n2 fits failed with the following error:\nTraceback (most recent call last):\n  File \"C:\\Users\\sanja\\anaconda3\\Lib\\site-packages\\sklearn\\model_selection\\_validation.py\", line 686, in _fit_and_score\n    estimator.fit(X_train, y_train, **fit_params)\n  File \"C:\\Users\\sanja\\anaconda3\\Lib\\site-packages\\sklearn\\ensemble\\_forest.py\", line 340, in fit\n    self._validate_params()\n  File \"C:\\Users\\sanja\\anaconda3\\Lib\\site-packages\\sklearn\\base.py\", line 600, in _validate_params\n    validate_parameter_constraints(\n  File \"C:\\Users\\sanja\\anaconda3\\Lib\\site-packages\\sklearn\\utils\\_param_validation.py\", line 97, in validate_parameter_constraints\n    raise InvalidParameterError(\nsklearn.utils._param_validation.InvalidParameterError: The 'criterion' parameter of RandomForestRegressor must be a str among {'absolute_error', 'friedman_mse', 'squared_error', 'poisson'}. Got 'mse' instead.\n\n--------------------------------------------------------------------------------\n2 fits failed with the following error:\nTraceback (most recent call last):\n  File \"C:\\Users\\sanja\\anaconda3\\Lib\\site-packages\\sklearn\\model_selection\\_validation.py\", line 686, in _fit_and_score\n    estimator.fit(X_train, y_train, **fit_params)\n  File \"C:\\Users\\sanja\\anaconda3\\Lib\\site-packages\\sklearn\\ensemble\\_forest.py\", line 340, in fit\n    self._validate_params()\n  File \"C:\\Users\\sanja\\anaconda3\\Lib\\site-packages\\sklearn\\base.py\", line 600, in _validate_params\n    validate_parameter_constraints(\n  File \"C:\\Users\\sanja\\anaconda3\\Lib\\site-packages\\sklearn\\utils\\_param_validation.py\", line 97, in validate_parameter_constraints\n    raise InvalidParameterError(\nsklearn.utils._param_validation.InvalidParameterError: The 'criterion' parameter of RandomForestRegressor must be a str among {'squared_error', 'friedman_mse', 'poisson', 'absolute_error'}. Got 'mse' instead.\n\n--------------------------------------------------------------------------------\n2 fits failed with the following error:\nTraceback (most recent call last):\n  File \"C:\\Users\\sanja\\anaconda3\\Lib\\site-packages\\sklearn\\model_selection\\_validation.py\", line 686, in _fit_and_score\n    estimator.fit(X_train, y_train, **fit_params)\n  File \"C:\\Users\\sanja\\anaconda3\\Lib\\site-packages\\sklearn\\ensemble\\_forest.py\", line 340, in fit\n    self._validate_params()\n  File \"C:\\Users\\sanja\\anaconda3\\Lib\\site-packages\\sklearn\\base.py\", line 600, in _validate_params\n    validate_parameter_constraints(\n  File \"C:\\Users\\sanja\\anaconda3\\Lib\\site-packages\\sklearn\\utils\\_param_validation.py\", line 97, in validate_parameter_constraints\n    raise InvalidParameterError(\nsklearn.utils._param_validation.InvalidParameterError: The 'criterion' parameter of RandomForestRegressor must be a str among {'absolute_error', 'friedman_mse', 'poisson', 'squared_error'}. Got 'mae' instead.\n\n--------------------------------------------------------------------------------\n2 fits failed with the following error:\nTraceback (most recent call last):\n  File \"C:\\Users\\sanja\\anaconda3\\Lib\\site-packages\\sklearn\\model_selection\\_validation.py\", line 686, in _fit_and_score\n    estimator.fit(X_train, y_train, **fit_params)\n  File \"C:\\Users\\sanja\\anaconda3\\Lib\\site-packages\\sklearn\\ensemble\\_forest.py\", line 340, in fit\n    self._validate_params()\n  File \"C:\\Users\\sanja\\anaconda3\\Lib\\site-packages\\sklearn\\base.py\", line 600, in _validate_params\n    validate_parameter_constraints(\n  File \"C:\\Users\\sanja\\anaconda3\\Lib\\site-packages\\sklearn\\utils\\_param_validation.py\", line 97, in validate_parameter_constraints\n    raise InvalidParameterError(\nsklearn.utils._param_validation.InvalidParameterError: The 'criterion' parameter of RandomForestRegressor must be a str among {'squared_error', 'friedman_mse', 'absolute_error', 'poisson'}. Got 'mae' instead.\n\n--------------------------------------------------------------------------------\n2 fits failed with the following error:\nTraceback (most recent call last):\n  File \"C:\\Users\\sanja\\anaconda3\\Lib\\site-packages\\sklearn\\model_selection\\_validation.py\", line 686, in _fit_and_score\n    estimator.fit(X_train, y_train, **fit_params)\n  File \"C:\\Users\\sanja\\anaconda3\\Lib\\site-packages\\sklearn\\ensemble\\_forest.py\", line 340, in fit\n    self._validate_params()\n  File \"C:\\Users\\sanja\\anaconda3\\Lib\\site-packages\\sklearn\\base.py\", line 600, in _validate_params\n    validate_parameter_constraints(\n  File \"C:\\Users\\sanja\\anaconda3\\Lib\\site-packages\\sklearn\\utils\\_param_validation.py\", line 97, in validate_parameter_constraints\n    raise InvalidParameterError(\nsklearn.utils._param_validation.InvalidParameterError: The 'criterion' parameter of RandomForestRegressor must be a str among {'absolute_error', 'friedman_mse', 'squared_error', 'poisson'}. Got 'mae' instead.\n\n--------------------------------------------------------------------------------\n2 fits failed with the following error:\nTraceback (most recent call last):\n  File \"C:\\Users\\sanja\\anaconda3\\Lib\\site-packages\\sklearn\\model_selection\\_validation.py\", line 686, in _fit_and_score\n    estimator.fit(X_train, y_train, **fit_params)\n  File \"C:\\Users\\sanja\\anaconda3\\Lib\\site-packages\\sklearn\\ensemble\\_forest.py\", line 340, in fit\n    self._validate_params()\n  File \"C:\\Users\\sanja\\anaconda3\\Lib\\site-packages\\sklearn\\base.py\", line 600, in _validate_params\n    validate_parameter_constraints(\n  File \"C:\\Users\\sanja\\anaconda3\\Lib\\site-packages\\sklearn\\utils\\_param_validation.py\", line 97, in validate_parameter_constraints\n    raise InvalidParameterError(\nsklearn.utils._param_validation.InvalidParameterError: The 'criterion' parameter of RandomForestRegressor must be a str among {'squared_error', 'friedman_mse', 'poisson', 'absolute_error'}. Got 'mae' instead.\n",
     "output_type": "error",
     "traceback": [
      "\u001b[1;31m---------------------------------------------------------------------------\u001b[0m",
      "\u001b[1;31mValueError\u001b[0m                                Traceback (most recent call last)",
      "Cell \u001b[1;32mIn[86], line 2\u001b[0m\n\u001b[0;32m      1\u001b[0m RF_grid\u001b[38;5;241m=\u001b[39mGridSearchCV(RandomForestRegressor(),param,cv\u001b[38;5;241m=\u001b[39m\u001b[38;5;241m4\u001b[39m,scoring\u001b[38;5;241m=\u001b[39m\u001b[38;5;124m'\u001b[39m\u001b[38;5;124maccuracy\u001b[39m\u001b[38;5;124m'\u001b[39m,n_jobs\u001b[38;5;241m=\u001b[39m\u001b[38;5;241m-\u001b[39m\u001b[38;5;241m1\u001b[39m,verbose\u001b[38;5;241m=\u001b[39m\u001b[38;5;241m2\u001b[39m)\n\u001b[1;32m----> 2\u001b[0m RF_grid\u001b[38;5;241m.\u001b[39mfit(x_train,y_train)\n\u001b[0;32m      3\u001b[0m RF_grid_PRED\u001b[38;5;241m=\u001b[39mRF_grid\u001b[38;5;241m.\u001b[39mbest_estimator_\u001b[38;5;241m.\u001b[39mpredict(x_test)\n",
      "File \u001b[1;32m~\\anaconda3\\Lib\\site-packages\\sklearn\\model_selection\\_search.py:874\u001b[0m, in \u001b[0;36mBaseSearchCV.fit\u001b[1;34m(self, X, y, groups, **fit_params)\u001b[0m\n\u001b[0;32m    868\u001b[0m     results \u001b[38;5;241m=\u001b[39m \u001b[38;5;28mself\u001b[39m\u001b[38;5;241m.\u001b[39m_format_results(\n\u001b[0;32m    869\u001b[0m         all_candidate_params, n_splits, all_out, all_more_results\n\u001b[0;32m    870\u001b[0m     )\n\u001b[0;32m    872\u001b[0m     \u001b[38;5;28;01mreturn\u001b[39;00m results\n\u001b[1;32m--> 874\u001b[0m \u001b[38;5;28mself\u001b[39m\u001b[38;5;241m.\u001b[39m_run_search(evaluate_candidates)\n\u001b[0;32m    876\u001b[0m \u001b[38;5;66;03m# multimetric is determined here because in the case of a callable\u001b[39;00m\n\u001b[0;32m    877\u001b[0m \u001b[38;5;66;03m# self.scoring the return type is only known after calling\u001b[39;00m\n\u001b[0;32m    878\u001b[0m first_test_score \u001b[38;5;241m=\u001b[39m all_out[\u001b[38;5;241m0\u001b[39m][\u001b[38;5;124m\"\u001b[39m\u001b[38;5;124mtest_scores\u001b[39m\u001b[38;5;124m\"\u001b[39m]\n",
      "File \u001b[1;32m~\\anaconda3\\Lib\\site-packages\\sklearn\\model_selection\\_search.py:1388\u001b[0m, in \u001b[0;36mGridSearchCV._run_search\u001b[1;34m(self, evaluate_candidates)\u001b[0m\n\u001b[0;32m   1386\u001b[0m \u001b[38;5;28;01mdef\u001b[39;00m \u001b[38;5;21m_run_search\u001b[39m(\u001b[38;5;28mself\u001b[39m, evaluate_candidates):\n\u001b[0;32m   1387\u001b[0m \u001b[38;5;250m    \u001b[39m\u001b[38;5;124;03m\"\"\"Search all candidates in param_grid\"\"\"\u001b[39;00m\n\u001b[1;32m-> 1388\u001b[0m     evaluate_candidates(ParameterGrid(\u001b[38;5;28mself\u001b[39m\u001b[38;5;241m.\u001b[39mparam_grid))\n",
      "File \u001b[1;32m~\\anaconda3\\Lib\\site-packages\\sklearn\\model_selection\\_search.py:851\u001b[0m, in \u001b[0;36mBaseSearchCV.fit.<locals>.evaluate_candidates\u001b[1;34m(candidate_params, cv, more_results)\u001b[0m\n\u001b[0;32m    844\u001b[0m \u001b[38;5;28;01melif\u001b[39;00m \u001b[38;5;28mlen\u001b[39m(out) \u001b[38;5;241m!=\u001b[39m n_candidates \u001b[38;5;241m*\u001b[39m n_splits:\n\u001b[0;32m    845\u001b[0m     \u001b[38;5;28;01mraise\u001b[39;00m \u001b[38;5;167;01mValueError\u001b[39;00m(\n\u001b[0;32m    846\u001b[0m         \u001b[38;5;124m\"\u001b[39m\u001b[38;5;124mcv.split and cv.get_n_splits returned \u001b[39m\u001b[38;5;124m\"\u001b[39m\n\u001b[0;32m    847\u001b[0m         \u001b[38;5;124m\"\u001b[39m\u001b[38;5;124minconsistent results. Expected \u001b[39m\u001b[38;5;132;01m{}\u001b[39;00m\u001b[38;5;124m \u001b[39m\u001b[38;5;124m\"\u001b[39m\n\u001b[0;32m    848\u001b[0m         \u001b[38;5;124m\"\u001b[39m\u001b[38;5;124msplits, got \u001b[39m\u001b[38;5;132;01m{}\u001b[39;00m\u001b[38;5;124m\"\u001b[39m\u001b[38;5;241m.\u001b[39mformat(n_splits, \u001b[38;5;28mlen\u001b[39m(out) \u001b[38;5;241m/\u001b[39m\u001b[38;5;241m/\u001b[39m n_candidates)\n\u001b[0;32m    849\u001b[0m     )\n\u001b[1;32m--> 851\u001b[0m _warn_or_raise_about_fit_failures(out, \u001b[38;5;28mself\u001b[39m\u001b[38;5;241m.\u001b[39merror_score)\n\u001b[0;32m    853\u001b[0m \u001b[38;5;66;03m# For callable self.scoring, the return type is only know after\u001b[39;00m\n\u001b[0;32m    854\u001b[0m \u001b[38;5;66;03m# calling. If the return type is a dictionary, the error scores\u001b[39;00m\n\u001b[0;32m    855\u001b[0m \u001b[38;5;66;03m# can now be inserted with the correct key. The type checking\u001b[39;00m\n\u001b[0;32m    856\u001b[0m \u001b[38;5;66;03m# of out will be done in `_insert_error_scores`.\u001b[39;00m\n\u001b[0;32m    857\u001b[0m \u001b[38;5;28;01mif\u001b[39;00m \u001b[38;5;28mcallable\u001b[39m(\u001b[38;5;28mself\u001b[39m\u001b[38;5;241m.\u001b[39mscoring):\n",
      "File \u001b[1;32m~\\anaconda3\\Lib\\site-packages\\sklearn\\model_selection\\_validation.py:367\u001b[0m, in \u001b[0;36m_warn_or_raise_about_fit_failures\u001b[1;34m(results, error_score)\u001b[0m\n\u001b[0;32m    360\u001b[0m \u001b[38;5;28;01mif\u001b[39;00m num_failed_fits \u001b[38;5;241m==\u001b[39m num_fits:\n\u001b[0;32m    361\u001b[0m     all_fits_failed_message \u001b[38;5;241m=\u001b[39m (\n\u001b[0;32m    362\u001b[0m         \u001b[38;5;124mf\u001b[39m\u001b[38;5;124m\"\u001b[39m\u001b[38;5;130;01m\\n\u001b[39;00m\u001b[38;5;124mAll the \u001b[39m\u001b[38;5;132;01m{\u001b[39;00mnum_fits\u001b[38;5;132;01m}\u001b[39;00m\u001b[38;5;124m fits failed.\u001b[39m\u001b[38;5;130;01m\\n\u001b[39;00m\u001b[38;5;124m\"\u001b[39m\n\u001b[0;32m    363\u001b[0m         \u001b[38;5;124m\"\u001b[39m\u001b[38;5;124mIt is very likely that your model is misconfigured.\u001b[39m\u001b[38;5;130;01m\\n\u001b[39;00m\u001b[38;5;124m\"\u001b[39m\n\u001b[0;32m    364\u001b[0m         \u001b[38;5;124m\"\u001b[39m\u001b[38;5;124mYou can try to debug the error by setting error_score=\u001b[39m\u001b[38;5;124m'\u001b[39m\u001b[38;5;124mraise\u001b[39m\u001b[38;5;124m'\u001b[39m\u001b[38;5;124m.\u001b[39m\u001b[38;5;130;01m\\n\u001b[39;00m\u001b[38;5;130;01m\\n\u001b[39;00m\u001b[38;5;124m\"\u001b[39m\n\u001b[0;32m    365\u001b[0m         \u001b[38;5;124mf\u001b[39m\u001b[38;5;124m\"\u001b[39m\u001b[38;5;124mBelow are more details about the failures:\u001b[39m\u001b[38;5;130;01m\\n\u001b[39;00m\u001b[38;5;132;01m{\u001b[39;00mfit_errors_summary\u001b[38;5;132;01m}\u001b[39;00m\u001b[38;5;124m\"\u001b[39m\n\u001b[0;32m    366\u001b[0m     )\n\u001b[1;32m--> 367\u001b[0m     \u001b[38;5;28;01mraise\u001b[39;00m \u001b[38;5;167;01mValueError\u001b[39;00m(all_fits_failed_message)\n\u001b[0;32m    369\u001b[0m \u001b[38;5;28;01melse\u001b[39;00m:\n\u001b[0;32m    370\u001b[0m     some_fits_failed_message \u001b[38;5;241m=\u001b[39m (\n\u001b[0;32m    371\u001b[0m         \u001b[38;5;124mf\u001b[39m\u001b[38;5;124m\"\u001b[39m\u001b[38;5;130;01m\\n\u001b[39;00m\u001b[38;5;132;01m{\u001b[39;00mnum_failed_fits\u001b[38;5;132;01m}\u001b[39;00m\u001b[38;5;124m fits failed out of a total of \u001b[39m\u001b[38;5;132;01m{\u001b[39;00mnum_fits\u001b[38;5;132;01m}\u001b[39;00m\u001b[38;5;124m.\u001b[39m\u001b[38;5;130;01m\\n\u001b[39;00m\u001b[38;5;124m\"\u001b[39m\n\u001b[0;32m    372\u001b[0m         \u001b[38;5;124m\"\u001b[39m\u001b[38;5;124mThe score on these train-test partitions for these parameters\u001b[39m\u001b[38;5;124m\"\u001b[39m\n\u001b[1;32m   (...)\u001b[0m\n\u001b[0;32m    376\u001b[0m         \u001b[38;5;124mf\u001b[39m\u001b[38;5;124m\"\u001b[39m\u001b[38;5;124mBelow are more details about the failures:\u001b[39m\u001b[38;5;130;01m\\n\u001b[39;00m\u001b[38;5;132;01m{\u001b[39;00mfit_errors_summary\u001b[38;5;132;01m}\u001b[39;00m\u001b[38;5;124m\"\u001b[39m\n\u001b[0;32m    377\u001b[0m     )\n",
      "\u001b[1;31mValueError\u001b[0m: \nAll the 16 fits failed.\nIt is very likely that your model is misconfigured.\nYou can try to debug the error by setting error_score='raise'.\n\nBelow are more details about the failures:\n--------------------------------------------------------------------------------\n2 fits failed with the following error:\nTraceback (most recent call last):\n  File \"C:\\Users\\sanja\\anaconda3\\Lib\\site-packages\\sklearn\\model_selection\\_validation.py\", line 686, in _fit_and_score\n    estimator.fit(X_train, y_train, **fit_params)\n  File \"C:\\Users\\sanja\\anaconda3\\Lib\\site-packages\\sklearn\\ensemble\\_forest.py\", line 340, in fit\n    self._validate_params()\n  File \"C:\\Users\\sanja\\anaconda3\\Lib\\site-packages\\sklearn\\base.py\", line 600, in _validate_params\n    validate_parameter_constraints(\n  File \"C:\\Users\\sanja\\anaconda3\\Lib\\site-packages\\sklearn\\utils\\_param_validation.py\", line 97, in validate_parameter_constraints\n    raise InvalidParameterError(\nsklearn.utils._param_validation.InvalidParameterError: The 'criterion' parameter of RandomForestRegressor must be a str among {'absolute_error', 'friedman_mse', 'poisson', 'squared_error'}. Got 'mse' instead.\n\n--------------------------------------------------------------------------------\n2 fits failed with the following error:\nTraceback (most recent call last):\n  File \"C:\\Users\\sanja\\anaconda3\\Lib\\site-packages\\sklearn\\model_selection\\_validation.py\", line 686, in _fit_and_score\n    estimator.fit(X_train, y_train, **fit_params)\n  File \"C:\\Users\\sanja\\anaconda3\\Lib\\site-packages\\sklearn\\ensemble\\_forest.py\", line 340, in fit\n    self._validate_params()\n  File \"C:\\Users\\sanja\\anaconda3\\Lib\\site-packages\\sklearn\\base.py\", line 600, in _validate_params\n    validate_parameter_constraints(\n  File \"C:\\Users\\sanja\\anaconda3\\Lib\\site-packages\\sklearn\\utils\\_param_validation.py\", line 97, in validate_parameter_constraints\n    raise InvalidParameterError(\nsklearn.utils._param_validation.InvalidParameterError: The 'criterion' parameter of RandomForestRegressor must be a str among {'squared_error', 'friedman_mse', 'absolute_error', 'poisson'}. Got 'mse' instead.\n\n--------------------------------------------------------------------------------\n2 fits failed with the following error:\nTraceback (most recent call last):\n  File \"C:\\Users\\sanja\\anaconda3\\Lib\\site-packages\\sklearn\\model_selection\\_validation.py\", line 686, in _fit_and_score\n    estimator.fit(X_train, y_train, **fit_params)\n  File \"C:\\Users\\sanja\\anaconda3\\Lib\\site-packages\\sklearn\\ensemble\\_forest.py\", line 340, in fit\n    self._validate_params()\n  File \"C:\\Users\\sanja\\anaconda3\\Lib\\site-packages\\sklearn\\base.py\", line 600, in _validate_params\n    validate_parameter_constraints(\n  File \"C:\\Users\\sanja\\anaconda3\\Lib\\site-packages\\sklearn\\utils\\_param_validation.py\", line 97, in validate_parameter_constraints\n    raise InvalidParameterError(\nsklearn.utils._param_validation.InvalidParameterError: The 'criterion' parameter of RandomForestRegressor must be a str among {'absolute_error', 'friedman_mse', 'squared_error', 'poisson'}. Got 'mse' instead.\n\n--------------------------------------------------------------------------------\n2 fits failed with the following error:\nTraceback (most recent call last):\n  File \"C:\\Users\\sanja\\anaconda3\\Lib\\site-packages\\sklearn\\model_selection\\_validation.py\", line 686, in _fit_and_score\n    estimator.fit(X_train, y_train, **fit_params)\n  File \"C:\\Users\\sanja\\anaconda3\\Lib\\site-packages\\sklearn\\ensemble\\_forest.py\", line 340, in fit\n    self._validate_params()\n  File \"C:\\Users\\sanja\\anaconda3\\Lib\\site-packages\\sklearn\\base.py\", line 600, in _validate_params\n    validate_parameter_constraints(\n  File \"C:\\Users\\sanja\\anaconda3\\Lib\\site-packages\\sklearn\\utils\\_param_validation.py\", line 97, in validate_parameter_constraints\n    raise InvalidParameterError(\nsklearn.utils._param_validation.InvalidParameterError: The 'criterion' parameter of RandomForestRegressor must be a str among {'squared_error', 'friedman_mse', 'poisson', 'absolute_error'}. Got 'mse' instead.\n\n--------------------------------------------------------------------------------\n2 fits failed with the following error:\nTraceback (most recent call last):\n  File \"C:\\Users\\sanja\\anaconda3\\Lib\\site-packages\\sklearn\\model_selection\\_validation.py\", line 686, in _fit_and_score\n    estimator.fit(X_train, y_train, **fit_params)\n  File \"C:\\Users\\sanja\\anaconda3\\Lib\\site-packages\\sklearn\\ensemble\\_forest.py\", line 340, in fit\n    self._validate_params()\n  File \"C:\\Users\\sanja\\anaconda3\\Lib\\site-packages\\sklearn\\base.py\", line 600, in _validate_params\n    validate_parameter_constraints(\n  File \"C:\\Users\\sanja\\anaconda3\\Lib\\site-packages\\sklearn\\utils\\_param_validation.py\", line 97, in validate_parameter_constraints\n    raise InvalidParameterError(\nsklearn.utils._param_validation.InvalidParameterError: The 'criterion' parameter of RandomForestRegressor must be a str among {'absolute_error', 'friedman_mse', 'poisson', 'squared_error'}. Got 'mae' instead.\n\n--------------------------------------------------------------------------------\n2 fits failed with the following error:\nTraceback (most recent call last):\n  File \"C:\\Users\\sanja\\anaconda3\\Lib\\site-packages\\sklearn\\model_selection\\_validation.py\", line 686, in _fit_and_score\n    estimator.fit(X_train, y_train, **fit_params)\n  File \"C:\\Users\\sanja\\anaconda3\\Lib\\site-packages\\sklearn\\ensemble\\_forest.py\", line 340, in fit\n    self._validate_params()\n  File \"C:\\Users\\sanja\\anaconda3\\Lib\\site-packages\\sklearn\\base.py\", line 600, in _validate_params\n    validate_parameter_constraints(\n  File \"C:\\Users\\sanja\\anaconda3\\Lib\\site-packages\\sklearn\\utils\\_param_validation.py\", line 97, in validate_parameter_constraints\n    raise InvalidParameterError(\nsklearn.utils._param_validation.InvalidParameterError: The 'criterion' parameter of RandomForestRegressor must be a str among {'squared_error', 'friedman_mse', 'absolute_error', 'poisson'}. Got 'mae' instead.\n\n--------------------------------------------------------------------------------\n2 fits failed with the following error:\nTraceback (most recent call last):\n  File \"C:\\Users\\sanja\\anaconda3\\Lib\\site-packages\\sklearn\\model_selection\\_validation.py\", line 686, in _fit_and_score\n    estimator.fit(X_train, y_train, **fit_params)\n  File \"C:\\Users\\sanja\\anaconda3\\Lib\\site-packages\\sklearn\\ensemble\\_forest.py\", line 340, in fit\n    self._validate_params()\n  File \"C:\\Users\\sanja\\anaconda3\\Lib\\site-packages\\sklearn\\base.py\", line 600, in _validate_params\n    validate_parameter_constraints(\n  File \"C:\\Users\\sanja\\anaconda3\\Lib\\site-packages\\sklearn\\utils\\_param_validation.py\", line 97, in validate_parameter_constraints\n    raise InvalidParameterError(\nsklearn.utils._param_validation.InvalidParameterError: The 'criterion' parameter of RandomForestRegressor must be a str among {'absolute_error', 'friedman_mse', 'squared_error', 'poisson'}. Got 'mae' instead.\n\n--------------------------------------------------------------------------------\n2 fits failed with the following error:\nTraceback (most recent call last):\n  File \"C:\\Users\\sanja\\anaconda3\\Lib\\site-packages\\sklearn\\model_selection\\_validation.py\", line 686, in _fit_and_score\n    estimator.fit(X_train, y_train, **fit_params)\n  File \"C:\\Users\\sanja\\anaconda3\\Lib\\site-packages\\sklearn\\ensemble\\_forest.py\", line 340, in fit\n    self._validate_params()\n  File \"C:\\Users\\sanja\\anaconda3\\Lib\\site-packages\\sklearn\\base.py\", line 600, in _validate_params\n    validate_parameter_constraints(\n  File \"C:\\Users\\sanja\\anaconda3\\Lib\\site-packages\\sklearn\\utils\\_param_validation.py\", line 97, in validate_parameter_constraints\n    raise InvalidParameterError(\nsklearn.utils._param_validation.InvalidParameterError: The 'criterion' parameter of RandomForestRegressor must be a str among {'squared_error', 'friedman_mse', 'poisson', 'absolute_error'}. Got 'mae' instead.\n"
     ]
    }
   ],
   "source": [
    "RF_grid=GridSearchCV(RandomForestRegressor(),param,cv=4,scoring='accuracy',n_jobs=-1,verbose=2)\n",
    "RF_grid.fit(x_train,y_train)\n",
    "RF_grid_PRED=RF_grid.best_estimator_.predict(x_test)"
   ]
  },
  {
   "cell_type": "code",
   "execution_count": 76,
   "id": "f1767f68",
   "metadata": {},
   "outputs": [
    {
     "name": "stdout",
     "output_type": "stream",
     "text": [
      "Fitting 4 folds for each of 4 candidates, totalling 16 fits\n"
     ]
    },
    {
     "ename": "ValueError",
     "evalue": "\nAll the 16 fits failed.\nIt is very likely that your model is misconfigured.\nYou can try to debug the error by setting error_score='raise'.\n\nBelow are more details about the failures:\n--------------------------------------------------------------------------------\n2 fits failed with the following error:\nTraceback (most recent call last):\n  File \"C:\\Users\\sanja\\anaconda3\\Lib\\site-packages\\sklearn\\model_selection\\_validation.py\", line 686, in _fit_and_score\n    estimator.fit(X_train, y_train, **fit_params)\n  File \"C:\\Users\\sanja\\anaconda3\\Lib\\site-packages\\sklearn\\ensemble\\_forest.py\", line 340, in fit\n    self._validate_params()\n  File \"C:\\Users\\sanja\\anaconda3\\Lib\\site-packages\\sklearn\\base.py\", line 600, in _validate_params\n    validate_parameter_constraints(\n  File \"C:\\Users\\sanja\\anaconda3\\Lib\\site-packages\\sklearn\\utils\\_param_validation.py\", line 97, in validate_parameter_constraints\n    raise InvalidParameterError(\nsklearn.utils._param_validation.InvalidParameterError: The 'criterion' parameter of RandomForestRegressor must be a str among {'poisson', 'squared_error', 'friedman_mse', 'absolute_error'}. Got 'mse' instead.\n\n--------------------------------------------------------------------------------\n1 fits failed with the following error:\nTraceback (most recent call last):\n  File \"C:\\Users\\sanja\\anaconda3\\Lib\\site-packages\\sklearn\\model_selection\\_validation.py\", line 686, in _fit_and_score\n    estimator.fit(X_train, y_train, **fit_params)\n  File \"C:\\Users\\sanja\\anaconda3\\Lib\\site-packages\\sklearn\\ensemble\\_forest.py\", line 340, in fit\n    self._validate_params()\n  File \"C:\\Users\\sanja\\anaconda3\\Lib\\site-packages\\sklearn\\base.py\", line 600, in _validate_params\n    validate_parameter_constraints(\n  File \"C:\\Users\\sanja\\anaconda3\\Lib\\site-packages\\sklearn\\utils\\_param_validation.py\", line 97, in validate_parameter_constraints\n    raise InvalidParameterError(\nsklearn.utils._param_validation.InvalidParameterError: The 'criterion' parameter of RandomForestRegressor must be a str among {'squared_error', 'poisson', 'absolute_error', 'friedman_mse'}. Got 'mse' instead.\n\n--------------------------------------------------------------------------------\n2 fits failed with the following error:\nTraceback (most recent call last):\n  File \"C:\\Users\\sanja\\anaconda3\\Lib\\site-packages\\sklearn\\model_selection\\_validation.py\", line 686, in _fit_and_score\n    estimator.fit(X_train, y_train, **fit_params)\n  File \"C:\\Users\\sanja\\anaconda3\\Lib\\site-packages\\sklearn\\ensemble\\_forest.py\", line 340, in fit\n    self._validate_params()\n  File \"C:\\Users\\sanja\\anaconda3\\Lib\\site-packages\\sklearn\\base.py\", line 600, in _validate_params\n    validate_parameter_constraints(\n  File \"C:\\Users\\sanja\\anaconda3\\Lib\\site-packages\\sklearn\\utils\\_param_validation.py\", line 97, in validate_parameter_constraints\n    raise InvalidParameterError(\nsklearn.utils._param_validation.InvalidParameterError: The 'criterion' parameter of RandomForestRegressor must be a str among {'poisson', 'absolute_error', 'friedman_mse', 'squared_error'}. Got 'mse' instead.\n\n--------------------------------------------------------------------------------\n1 fits failed with the following error:\nTraceback (most recent call last):\n  File \"C:\\Users\\sanja\\anaconda3\\Lib\\site-packages\\sklearn\\model_selection\\_validation.py\", line 686, in _fit_and_score\n    estimator.fit(X_train, y_train, **fit_params)\n  File \"C:\\Users\\sanja\\anaconda3\\Lib\\site-packages\\sklearn\\ensemble\\_forest.py\", line 340, in fit\n    self._validate_params()\n  File \"C:\\Users\\sanja\\anaconda3\\Lib\\site-packages\\sklearn\\base.py\", line 600, in _validate_params\n    validate_parameter_constraints(\n  File \"C:\\Users\\sanja\\anaconda3\\Lib\\site-packages\\sklearn\\utils\\_param_validation.py\", line 97, in validate_parameter_constraints\n    raise InvalidParameterError(\nsklearn.utils._param_validation.InvalidParameterError: The 'criterion' parameter of RandomForestRegressor must be a str among {'absolute_error', 'poisson', 'friedman_mse', 'squared_error'}. Got 'mse' instead.\n\n--------------------------------------------------------------------------------\n1 fits failed with the following error:\nTraceback (most recent call last):\n  File \"C:\\Users\\sanja\\anaconda3\\Lib\\site-packages\\sklearn\\model_selection\\_validation.py\", line 686, in _fit_and_score\n    estimator.fit(X_train, y_train, **fit_params)\n  File \"C:\\Users\\sanja\\anaconda3\\Lib\\site-packages\\sklearn\\ensemble\\_forest.py\", line 340, in fit\n    self._validate_params()\n  File \"C:\\Users\\sanja\\anaconda3\\Lib\\site-packages\\sklearn\\base.py\", line 600, in _validate_params\n    validate_parameter_constraints(\n  File \"C:\\Users\\sanja\\anaconda3\\Lib\\site-packages\\sklearn\\utils\\_param_validation.py\", line 97, in validate_parameter_constraints\n    raise InvalidParameterError(\nsklearn.utils._param_validation.InvalidParameterError: The 'criterion' parameter of RandomForestRegressor must be a str among {'poisson', 'squared_error', 'absolute_error', 'friedman_mse'}. Got 'mse' instead.\n\n--------------------------------------------------------------------------------\n1 fits failed with the following error:\nTraceback (most recent call last):\n  File \"C:\\Users\\sanja\\anaconda3\\Lib\\site-packages\\sklearn\\model_selection\\_validation.py\", line 686, in _fit_and_score\n    estimator.fit(X_train, y_train, **fit_params)\n  File \"C:\\Users\\sanja\\anaconda3\\Lib\\site-packages\\sklearn\\ensemble\\_forest.py\", line 340, in fit\n    self._validate_params()\n  File \"C:\\Users\\sanja\\anaconda3\\Lib\\site-packages\\sklearn\\base.py\", line 600, in _validate_params\n    validate_parameter_constraints(\n  File \"C:\\Users\\sanja\\anaconda3\\Lib\\site-packages\\sklearn\\utils\\_param_validation.py\", line 97, in validate_parameter_constraints\n    raise InvalidParameterError(\nsklearn.utils._param_validation.InvalidParameterError: The 'criterion' parameter of RandomForestRegressor must be a str among {'friedman_mse', 'squared_error', 'poisson', 'absolute_error'}. Got 'mse' instead.\n\n--------------------------------------------------------------------------------\n1 fits failed with the following error:\nTraceback (most recent call last):\n  File \"C:\\Users\\sanja\\anaconda3\\Lib\\site-packages\\sklearn\\model_selection\\_validation.py\", line 686, in _fit_and_score\n    estimator.fit(X_train, y_train, **fit_params)\n  File \"C:\\Users\\sanja\\anaconda3\\Lib\\site-packages\\sklearn\\ensemble\\_forest.py\", line 340, in fit\n    self._validate_params()\n  File \"C:\\Users\\sanja\\anaconda3\\Lib\\site-packages\\sklearn\\base.py\", line 600, in _validate_params\n    validate_parameter_constraints(\n  File \"C:\\Users\\sanja\\anaconda3\\Lib\\site-packages\\sklearn\\utils\\_param_validation.py\", line 97, in validate_parameter_constraints\n    raise InvalidParameterError(\nsklearn.utils._param_validation.InvalidParameterError: The 'criterion' parameter of RandomForestRegressor must be a str among {'squared_error', 'absolute_error', 'friedman_mse', 'poisson'}. Got 'mae' instead.\n\n--------------------------------------------------------------------------------\n2 fits failed with the following error:\nTraceback (most recent call last):\n  File \"C:\\Users\\sanja\\anaconda3\\Lib\\site-packages\\sklearn\\model_selection\\_validation.py\", line 686, in _fit_and_score\n    estimator.fit(X_train, y_train, **fit_params)\n  File \"C:\\Users\\sanja\\anaconda3\\Lib\\site-packages\\sklearn\\ensemble\\_forest.py\", line 340, in fit\n    self._validate_params()\n  File \"C:\\Users\\sanja\\anaconda3\\Lib\\site-packages\\sklearn\\base.py\", line 600, in _validate_params\n    validate_parameter_constraints(\n  File \"C:\\Users\\sanja\\anaconda3\\Lib\\site-packages\\sklearn\\utils\\_param_validation.py\", line 97, in validate_parameter_constraints\n    raise InvalidParameterError(\nsklearn.utils._param_validation.InvalidParameterError: The 'criterion' parameter of RandomForestRegressor must be a str among {'squared_error', 'poisson', 'absolute_error', 'friedman_mse'}. Got 'mae' instead.\n\n--------------------------------------------------------------------------------\n1 fits failed with the following error:\nTraceback (most recent call last):\n  File \"C:\\Users\\sanja\\anaconda3\\Lib\\site-packages\\sklearn\\model_selection\\_validation.py\", line 686, in _fit_and_score\n    estimator.fit(X_train, y_train, **fit_params)\n  File \"C:\\Users\\sanja\\anaconda3\\Lib\\site-packages\\sklearn\\ensemble\\_forest.py\", line 340, in fit\n    self._validate_params()\n  File \"C:\\Users\\sanja\\anaconda3\\Lib\\site-packages\\sklearn\\base.py\", line 600, in _validate_params\n    validate_parameter_constraints(\n  File \"C:\\Users\\sanja\\anaconda3\\Lib\\site-packages\\sklearn\\utils\\_param_validation.py\", line 97, in validate_parameter_constraints\n    raise InvalidParameterError(\nsklearn.utils._param_validation.InvalidParameterError: The 'criterion' parameter of RandomForestRegressor must be a str among {'absolute_error', 'poisson', 'friedman_mse', 'squared_error'}. Got 'mae' instead.\n\n--------------------------------------------------------------------------------\n1 fits failed with the following error:\nTraceback (most recent call last):\n  File \"C:\\Users\\sanja\\anaconda3\\Lib\\site-packages\\sklearn\\model_selection\\_validation.py\", line 686, in _fit_and_score\n    estimator.fit(X_train, y_train, **fit_params)\n  File \"C:\\Users\\sanja\\anaconda3\\Lib\\site-packages\\sklearn\\ensemble\\_forest.py\", line 340, in fit\n    self._validate_params()\n  File \"C:\\Users\\sanja\\anaconda3\\Lib\\site-packages\\sklearn\\base.py\", line 600, in _validate_params\n    validate_parameter_constraints(\n  File \"C:\\Users\\sanja\\anaconda3\\Lib\\site-packages\\sklearn\\utils\\_param_validation.py\", line 97, in validate_parameter_constraints\n    raise InvalidParameterError(\nsklearn.utils._param_validation.InvalidParameterError: The 'criterion' parameter of RandomForestRegressor must be a str among {'friedman_mse', 'squared_error', 'absolute_error', 'poisson'}. Got 'mae' instead.\n\n--------------------------------------------------------------------------------\n1 fits failed with the following error:\nTraceback (most recent call last):\n  File \"C:\\Users\\sanja\\anaconda3\\Lib\\site-packages\\sklearn\\model_selection\\_validation.py\", line 686, in _fit_and_score\n    estimator.fit(X_train, y_train, **fit_params)\n  File \"C:\\Users\\sanja\\anaconda3\\Lib\\site-packages\\sklearn\\ensemble\\_forest.py\", line 340, in fit\n    self._validate_params()\n  File \"C:\\Users\\sanja\\anaconda3\\Lib\\site-packages\\sklearn\\base.py\", line 600, in _validate_params\n    validate_parameter_constraints(\n  File \"C:\\Users\\sanja\\anaconda3\\Lib\\site-packages\\sklearn\\utils\\_param_validation.py\", line 97, in validate_parameter_constraints\n    raise InvalidParameterError(\nsklearn.utils._param_validation.InvalidParameterError: The 'criterion' parameter of RandomForestRegressor must be a str among {'friedman_mse', 'absolute_error', 'squared_error', 'poisson'}. Got 'mae' instead.\n\n--------------------------------------------------------------------------------\n1 fits failed with the following error:\nTraceback (most recent call last):\n  File \"C:\\Users\\sanja\\anaconda3\\Lib\\site-packages\\sklearn\\model_selection\\_validation.py\", line 686, in _fit_and_score\n    estimator.fit(X_train, y_train, **fit_params)\n  File \"C:\\Users\\sanja\\anaconda3\\Lib\\site-packages\\sklearn\\ensemble\\_forest.py\", line 340, in fit\n    self._validate_params()\n  File \"C:\\Users\\sanja\\anaconda3\\Lib\\site-packages\\sklearn\\base.py\", line 600, in _validate_params\n    validate_parameter_constraints(\n  File \"C:\\Users\\sanja\\anaconda3\\Lib\\site-packages\\sklearn\\utils\\_param_validation.py\", line 97, in validate_parameter_constraints\n    raise InvalidParameterError(\nsklearn.utils._param_validation.InvalidParameterError: The 'criterion' parameter of RandomForestRegressor must be a str among {'poisson', 'squared_error', 'absolute_error', 'friedman_mse'}. Got 'mae' instead.\n\n--------------------------------------------------------------------------------\n1 fits failed with the following error:\nTraceback (most recent call last):\n  File \"C:\\Users\\sanja\\anaconda3\\Lib\\site-packages\\sklearn\\model_selection\\_validation.py\", line 686, in _fit_and_score\n    estimator.fit(X_train, y_train, **fit_params)\n  File \"C:\\Users\\sanja\\anaconda3\\Lib\\site-packages\\sklearn\\ensemble\\_forest.py\", line 340, in fit\n    self._validate_params()\n  File \"C:\\Users\\sanja\\anaconda3\\Lib\\site-packages\\sklearn\\base.py\", line 600, in _validate_params\n    validate_parameter_constraints(\n  File \"C:\\Users\\sanja\\anaconda3\\Lib\\site-packages\\sklearn\\utils\\_param_validation.py\", line 97, in validate_parameter_constraints\n    raise InvalidParameterError(\nsklearn.utils._param_validation.InvalidParameterError: The 'criterion' parameter of RandomForestRegressor must be a str among {'absolute_error', 'friedman_mse', 'poisson', 'squared_error'}. Got 'mae' instead.\n",
     "output_type": "error",
     "traceback": [
      "\u001b[1;31m---------------------------------------------------------------------------\u001b[0m",
      "\u001b[1;31mValueError\u001b[0m                                Traceback (most recent call last)",
      "Cell \u001b[1;32mIn[76], line 1\u001b[0m\n\u001b[1;32m----> 1\u001b[0m RF_grid\u001b[38;5;241m.\u001b[39mfit(x_train,y_train)\n\u001b[0;32m      2\u001b[0m RF_grid_PRED\u001b[38;5;241m=\u001b[39mRF_grid\u001b[38;5;241m.\u001b[39mbest_estimator_\u001b[38;5;241m.\u001b[39mpredict(x_test)\n",
      "File \u001b[1;32m~\\anaconda3\\Lib\\site-packages\\sklearn\\model_selection\\_search.py:874\u001b[0m, in \u001b[0;36mBaseSearchCV.fit\u001b[1;34m(self, X, y, groups, **fit_params)\u001b[0m\n\u001b[0;32m    868\u001b[0m     results \u001b[38;5;241m=\u001b[39m \u001b[38;5;28mself\u001b[39m\u001b[38;5;241m.\u001b[39m_format_results(\n\u001b[0;32m    869\u001b[0m         all_candidate_params, n_splits, all_out, all_more_results\n\u001b[0;32m    870\u001b[0m     )\n\u001b[0;32m    872\u001b[0m     \u001b[38;5;28;01mreturn\u001b[39;00m results\n\u001b[1;32m--> 874\u001b[0m \u001b[38;5;28mself\u001b[39m\u001b[38;5;241m.\u001b[39m_run_search(evaluate_candidates)\n\u001b[0;32m    876\u001b[0m \u001b[38;5;66;03m# multimetric is determined here because in the case of a callable\u001b[39;00m\n\u001b[0;32m    877\u001b[0m \u001b[38;5;66;03m# self.scoring the return type is only known after calling\u001b[39;00m\n\u001b[0;32m    878\u001b[0m first_test_score \u001b[38;5;241m=\u001b[39m all_out[\u001b[38;5;241m0\u001b[39m][\u001b[38;5;124m\"\u001b[39m\u001b[38;5;124mtest_scores\u001b[39m\u001b[38;5;124m\"\u001b[39m]\n",
      "File \u001b[1;32m~\\anaconda3\\Lib\\site-packages\\sklearn\\model_selection\\_search.py:1388\u001b[0m, in \u001b[0;36mGridSearchCV._run_search\u001b[1;34m(self, evaluate_candidates)\u001b[0m\n\u001b[0;32m   1386\u001b[0m \u001b[38;5;28;01mdef\u001b[39;00m \u001b[38;5;21m_run_search\u001b[39m(\u001b[38;5;28mself\u001b[39m, evaluate_candidates):\n\u001b[0;32m   1387\u001b[0m \u001b[38;5;250m    \u001b[39m\u001b[38;5;124;03m\"\"\"Search all candidates in param_grid\"\"\"\u001b[39;00m\n\u001b[1;32m-> 1388\u001b[0m     evaluate_candidates(ParameterGrid(\u001b[38;5;28mself\u001b[39m\u001b[38;5;241m.\u001b[39mparam_grid))\n",
      "File \u001b[1;32m~\\anaconda3\\Lib\\site-packages\\sklearn\\model_selection\\_search.py:851\u001b[0m, in \u001b[0;36mBaseSearchCV.fit.<locals>.evaluate_candidates\u001b[1;34m(candidate_params, cv, more_results)\u001b[0m\n\u001b[0;32m    844\u001b[0m \u001b[38;5;28;01melif\u001b[39;00m \u001b[38;5;28mlen\u001b[39m(out) \u001b[38;5;241m!=\u001b[39m n_candidates \u001b[38;5;241m*\u001b[39m n_splits:\n\u001b[0;32m    845\u001b[0m     \u001b[38;5;28;01mraise\u001b[39;00m \u001b[38;5;167;01mValueError\u001b[39;00m(\n\u001b[0;32m    846\u001b[0m         \u001b[38;5;124m\"\u001b[39m\u001b[38;5;124mcv.split and cv.get_n_splits returned \u001b[39m\u001b[38;5;124m\"\u001b[39m\n\u001b[0;32m    847\u001b[0m         \u001b[38;5;124m\"\u001b[39m\u001b[38;5;124minconsistent results. Expected \u001b[39m\u001b[38;5;132;01m{}\u001b[39;00m\u001b[38;5;124m \u001b[39m\u001b[38;5;124m\"\u001b[39m\n\u001b[0;32m    848\u001b[0m         \u001b[38;5;124m\"\u001b[39m\u001b[38;5;124msplits, got \u001b[39m\u001b[38;5;132;01m{}\u001b[39;00m\u001b[38;5;124m\"\u001b[39m\u001b[38;5;241m.\u001b[39mformat(n_splits, \u001b[38;5;28mlen\u001b[39m(out) \u001b[38;5;241m/\u001b[39m\u001b[38;5;241m/\u001b[39m n_candidates)\n\u001b[0;32m    849\u001b[0m     )\n\u001b[1;32m--> 851\u001b[0m _warn_or_raise_about_fit_failures(out, \u001b[38;5;28mself\u001b[39m\u001b[38;5;241m.\u001b[39merror_score)\n\u001b[0;32m    853\u001b[0m \u001b[38;5;66;03m# For callable self.scoring, the return type is only know after\u001b[39;00m\n\u001b[0;32m    854\u001b[0m \u001b[38;5;66;03m# calling. If the return type is a dictionary, the error scores\u001b[39;00m\n\u001b[0;32m    855\u001b[0m \u001b[38;5;66;03m# can now be inserted with the correct key. The type checking\u001b[39;00m\n\u001b[0;32m    856\u001b[0m \u001b[38;5;66;03m# of out will be done in `_insert_error_scores`.\u001b[39;00m\n\u001b[0;32m    857\u001b[0m \u001b[38;5;28;01mif\u001b[39;00m \u001b[38;5;28mcallable\u001b[39m(\u001b[38;5;28mself\u001b[39m\u001b[38;5;241m.\u001b[39mscoring):\n",
      "File \u001b[1;32m~\\anaconda3\\Lib\\site-packages\\sklearn\\model_selection\\_validation.py:367\u001b[0m, in \u001b[0;36m_warn_or_raise_about_fit_failures\u001b[1;34m(results, error_score)\u001b[0m\n\u001b[0;32m    360\u001b[0m \u001b[38;5;28;01mif\u001b[39;00m num_failed_fits \u001b[38;5;241m==\u001b[39m num_fits:\n\u001b[0;32m    361\u001b[0m     all_fits_failed_message \u001b[38;5;241m=\u001b[39m (\n\u001b[0;32m    362\u001b[0m         \u001b[38;5;124mf\u001b[39m\u001b[38;5;124m\"\u001b[39m\u001b[38;5;130;01m\\n\u001b[39;00m\u001b[38;5;124mAll the \u001b[39m\u001b[38;5;132;01m{\u001b[39;00mnum_fits\u001b[38;5;132;01m}\u001b[39;00m\u001b[38;5;124m fits failed.\u001b[39m\u001b[38;5;130;01m\\n\u001b[39;00m\u001b[38;5;124m\"\u001b[39m\n\u001b[0;32m    363\u001b[0m         \u001b[38;5;124m\"\u001b[39m\u001b[38;5;124mIt is very likely that your model is misconfigured.\u001b[39m\u001b[38;5;130;01m\\n\u001b[39;00m\u001b[38;5;124m\"\u001b[39m\n\u001b[0;32m    364\u001b[0m         \u001b[38;5;124m\"\u001b[39m\u001b[38;5;124mYou can try to debug the error by setting error_score=\u001b[39m\u001b[38;5;124m'\u001b[39m\u001b[38;5;124mraise\u001b[39m\u001b[38;5;124m'\u001b[39m\u001b[38;5;124m.\u001b[39m\u001b[38;5;130;01m\\n\u001b[39;00m\u001b[38;5;130;01m\\n\u001b[39;00m\u001b[38;5;124m\"\u001b[39m\n\u001b[0;32m    365\u001b[0m         \u001b[38;5;124mf\u001b[39m\u001b[38;5;124m\"\u001b[39m\u001b[38;5;124mBelow are more details about the failures:\u001b[39m\u001b[38;5;130;01m\\n\u001b[39;00m\u001b[38;5;132;01m{\u001b[39;00mfit_errors_summary\u001b[38;5;132;01m}\u001b[39;00m\u001b[38;5;124m\"\u001b[39m\n\u001b[0;32m    366\u001b[0m     )\n\u001b[1;32m--> 367\u001b[0m     \u001b[38;5;28;01mraise\u001b[39;00m \u001b[38;5;167;01mValueError\u001b[39;00m(all_fits_failed_message)\n\u001b[0;32m    369\u001b[0m \u001b[38;5;28;01melse\u001b[39;00m:\n\u001b[0;32m    370\u001b[0m     some_fits_failed_message \u001b[38;5;241m=\u001b[39m (\n\u001b[0;32m    371\u001b[0m         \u001b[38;5;124mf\u001b[39m\u001b[38;5;124m\"\u001b[39m\u001b[38;5;130;01m\\n\u001b[39;00m\u001b[38;5;132;01m{\u001b[39;00mnum_failed_fits\u001b[38;5;132;01m}\u001b[39;00m\u001b[38;5;124m fits failed out of a total of \u001b[39m\u001b[38;5;132;01m{\u001b[39;00mnum_fits\u001b[38;5;132;01m}\u001b[39;00m\u001b[38;5;124m.\u001b[39m\u001b[38;5;130;01m\\n\u001b[39;00m\u001b[38;5;124m\"\u001b[39m\n\u001b[0;32m    372\u001b[0m         \u001b[38;5;124m\"\u001b[39m\u001b[38;5;124mThe score on these train-test partitions for these parameters\u001b[39m\u001b[38;5;124m\"\u001b[39m\n\u001b[1;32m   (...)\u001b[0m\n\u001b[0;32m    376\u001b[0m         \u001b[38;5;124mf\u001b[39m\u001b[38;5;124m\"\u001b[39m\u001b[38;5;124mBelow are more details about the failures:\u001b[39m\u001b[38;5;130;01m\\n\u001b[39;00m\u001b[38;5;132;01m{\u001b[39;00mfit_errors_summary\u001b[38;5;132;01m}\u001b[39;00m\u001b[38;5;124m\"\u001b[39m\n\u001b[0;32m    377\u001b[0m     )\n",
      "\u001b[1;31mValueError\u001b[0m: \nAll the 16 fits failed.\nIt is very likely that your model is misconfigured.\nYou can try to debug the error by setting error_score='raise'.\n\nBelow are more details about the failures:\n--------------------------------------------------------------------------------\n2 fits failed with the following error:\nTraceback (most recent call last):\n  File \"C:\\Users\\sanja\\anaconda3\\Lib\\site-packages\\sklearn\\model_selection\\_validation.py\", line 686, in _fit_and_score\n    estimator.fit(X_train, y_train, **fit_params)\n  File \"C:\\Users\\sanja\\anaconda3\\Lib\\site-packages\\sklearn\\ensemble\\_forest.py\", line 340, in fit\n    self._validate_params()\n  File \"C:\\Users\\sanja\\anaconda3\\Lib\\site-packages\\sklearn\\base.py\", line 600, in _validate_params\n    validate_parameter_constraints(\n  File \"C:\\Users\\sanja\\anaconda3\\Lib\\site-packages\\sklearn\\utils\\_param_validation.py\", line 97, in validate_parameter_constraints\n    raise InvalidParameterError(\nsklearn.utils._param_validation.InvalidParameterError: The 'criterion' parameter of RandomForestRegressor must be a str among {'poisson', 'squared_error', 'friedman_mse', 'absolute_error'}. Got 'mse' instead.\n\n--------------------------------------------------------------------------------\n1 fits failed with the following error:\nTraceback (most recent call last):\n  File \"C:\\Users\\sanja\\anaconda3\\Lib\\site-packages\\sklearn\\model_selection\\_validation.py\", line 686, in _fit_and_score\n    estimator.fit(X_train, y_train, **fit_params)\n  File \"C:\\Users\\sanja\\anaconda3\\Lib\\site-packages\\sklearn\\ensemble\\_forest.py\", line 340, in fit\n    self._validate_params()\n  File \"C:\\Users\\sanja\\anaconda3\\Lib\\site-packages\\sklearn\\base.py\", line 600, in _validate_params\n    validate_parameter_constraints(\n  File \"C:\\Users\\sanja\\anaconda3\\Lib\\site-packages\\sklearn\\utils\\_param_validation.py\", line 97, in validate_parameter_constraints\n    raise InvalidParameterError(\nsklearn.utils._param_validation.InvalidParameterError: The 'criterion' parameter of RandomForestRegressor must be a str among {'squared_error', 'poisson', 'absolute_error', 'friedman_mse'}. Got 'mse' instead.\n\n--------------------------------------------------------------------------------\n2 fits failed with the following error:\nTraceback (most recent call last):\n  File \"C:\\Users\\sanja\\anaconda3\\Lib\\site-packages\\sklearn\\model_selection\\_validation.py\", line 686, in _fit_and_score\n    estimator.fit(X_train, y_train, **fit_params)\n  File \"C:\\Users\\sanja\\anaconda3\\Lib\\site-packages\\sklearn\\ensemble\\_forest.py\", line 340, in fit\n    self._validate_params()\n  File \"C:\\Users\\sanja\\anaconda3\\Lib\\site-packages\\sklearn\\base.py\", line 600, in _validate_params\n    validate_parameter_constraints(\n  File \"C:\\Users\\sanja\\anaconda3\\Lib\\site-packages\\sklearn\\utils\\_param_validation.py\", line 97, in validate_parameter_constraints\n    raise InvalidParameterError(\nsklearn.utils._param_validation.InvalidParameterError: The 'criterion' parameter of RandomForestRegressor must be a str among {'poisson', 'absolute_error', 'friedman_mse', 'squared_error'}. Got 'mse' instead.\n\n--------------------------------------------------------------------------------\n1 fits failed with the following error:\nTraceback (most recent call last):\n  File \"C:\\Users\\sanja\\anaconda3\\Lib\\site-packages\\sklearn\\model_selection\\_validation.py\", line 686, in _fit_and_score\n    estimator.fit(X_train, y_train, **fit_params)\n  File \"C:\\Users\\sanja\\anaconda3\\Lib\\site-packages\\sklearn\\ensemble\\_forest.py\", line 340, in fit\n    self._validate_params()\n  File \"C:\\Users\\sanja\\anaconda3\\Lib\\site-packages\\sklearn\\base.py\", line 600, in _validate_params\n    validate_parameter_constraints(\n  File \"C:\\Users\\sanja\\anaconda3\\Lib\\site-packages\\sklearn\\utils\\_param_validation.py\", line 97, in validate_parameter_constraints\n    raise InvalidParameterError(\nsklearn.utils._param_validation.InvalidParameterError: The 'criterion' parameter of RandomForestRegressor must be a str among {'absolute_error', 'poisson', 'friedman_mse', 'squared_error'}. Got 'mse' instead.\n\n--------------------------------------------------------------------------------\n1 fits failed with the following error:\nTraceback (most recent call last):\n  File \"C:\\Users\\sanja\\anaconda3\\Lib\\site-packages\\sklearn\\model_selection\\_validation.py\", line 686, in _fit_and_score\n    estimator.fit(X_train, y_train, **fit_params)\n  File \"C:\\Users\\sanja\\anaconda3\\Lib\\site-packages\\sklearn\\ensemble\\_forest.py\", line 340, in fit\n    self._validate_params()\n  File \"C:\\Users\\sanja\\anaconda3\\Lib\\site-packages\\sklearn\\base.py\", line 600, in _validate_params\n    validate_parameter_constraints(\n  File \"C:\\Users\\sanja\\anaconda3\\Lib\\site-packages\\sklearn\\utils\\_param_validation.py\", line 97, in validate_parameter_constraints\n    raise InvalidParameterError(\nsklearn.utils._param_validation.InvalidParameterError: The 'criterion' parameter of RandomForestRegressor must be a str among {'poisson', 'squared_error', 'absolute_error', 'friedman_mse'}. Got 'mse' instead.\n\n--------------------------------------------------------------------------------\n1 fits failed with the following error:\nTraceback (most recent call last):\n  File \"C:\\Users\\sanja\\anaconda3\\Lib\\site-packages\\sklearn\\model_selection\\_validation.py\", line 686, in _fit_and_score\n    estimator.fit(X_train, y_train, **fit_params)\n  File \"C:\\Users\\sanja\\anaconda3\\Lib\\site-packages\\sklearn\\ensemble\\_forest.py\", line 340, in fit\n    self._validate_params()\n  File \"C:\\Users\\sanja\\anaconda3\\Lib\\site-packages\\sklearn\\base.py\", line 600, in _validate_params\n    validate_parameter_constraints(\n  File \"C:\\Users\\sanja\\anaconda3\\Lib\\site-packages\\sklearn\\utils\\_param_validation.py\", line 97, in validate_parameter_constraints\n    raise InvalidParameterError(\nsklearn.utils._param_validation.InvalidParameterError: The 'criterion' parameter of RandomForestRegressor must be a str among {'friedman_mse', 'squared_error', 'poisson', 'absolute_error'}. Got 'mse' instead.\n\n--------------------------------------------------------------------------------\n1 fits failed with the following error:\nTraceback (most recent call last):\n  File \"C:\\Users\\sanja\\anaconda3\\Lib\\site-packages\\sklearn\\model_selection\\_validation.py\", line 686, in _fit_and_score\n    estimator.fit(X_train, y_train, **fit_params)\n  File \"C:\\Users\\sanja\\anaconda3\\Lib\\site-packages\\sklearn\\ensemble\\_forest.py\", line 340, in fit\n    self._validate_params()\n  File \"C:\\Users\\sanja\\anaconda3\\Lib\\site-packages\\sklearn\\base.py\", line 600, in _validate_params\n    validate_parameter_constraints(\n  File \"C:\\Users\\sanja\\anaconda3\\Lib\\site-packages\\sklearn\\utils\\_param_validation.py\", line 97, in validate_parameter_constraints\n    raise InvalidParameterError(\nsklearn.utils._param_validation.InvalidParameterError: The 'criterion' parameter of RandomForestRegressor must be a str among {'squared_error', 'absolute_error', 'friedman_mse', 'poisson'}. Got 'mae' instead.\n\n--------------------------------------------------------------------------------\n2 fits failed with the following error:\nTraceback (most recent call last):\n  File \"C:\\Users\\sanja\\anaconda3\\Lib\\site-packages\\sklearn\\model_selection\\_validation.py\", line 686, in _fit_and_score\n    estimator.fit(X_train, y_train, **fit_params)\n  File \"C:\\Users\\sanja\\anaconda3\\Lib\\site-packages\\sklearn\\ensemble\\_forest.py\", line 340, in fit\n    self._validate_params()\n  File \"C:\\Users\\sanja\\anaconda3\\Lib\\site-packages\\sklearn\\base.py\", line 600, in _validate_params\n    validate_parameter_constraints(\n  File \"C:\\Users\\sanja\\anaconda3\\Lib\\site-packages\\sklearn\\utils\\_param_validation.py\", line 97, in validate_parameter_constraints\n    raise InvalidParameterError(\nsklearn.utils._param_validation.InvalidParameterError: The 'criterion' parameter of RandomForestRegressor must be a str among {'squared_error', 'poisson', 'absolute_error', 'friedman_mse'}. Got 'mae' instead.\n\n--------------------------------------------------------------------------------\n1 fits failed with the following error:\nTraceback (most recent call last):\n  File \"C:\\Users\\sanja\\anaconda3\\Lib\\site-packages\\sklearn\\model_selection\\_validation.py\", line 686, in _fit_and_score\n    estimator.fit(X_train, y_train, **fit_params)\n  File \"C:\\Users\\sanja\\anaconda3\\Lib\\site-packages\\sklearn\\ensemble\\_forest.py\", line 340, in fit\n    self._validate_params()\n  File \"C:\\Users\\sanja\\anaconda3\\Lib\\site-packages\\sklearn\\base.py\", line 600, in _validate_params\n    validate_parameter_constraints(\n  File \"C:\\Users\\sanja\\anaconda3\\Lib\\site-packages\\sklearn\\utils\\_param_validation.py\", line 97, in validate_parameter_constraints\n    raise InvalidParameterError(\nsklearn.utils._param_validation.InvalidParameterError: The 'criterion' parameter of RandomForestRegressor must be a str among {'absolute_error', 'poisson', 'friedman_mse', 'squared_error'}. Got 'mae' instead.\n\n--------------------------------------------------------------------------------\n1 fits failed with the following error:\nTraceback (most recent call last):\n  File \"C:\\Users\\sanja\\anaconda3\\Lib\\site-packages\\sklearn\\model_selection\\_validation.py\", line 686, in _fit_and_score\n    estimator.fit(X_train, y_train, **fit_params)\n  File \"C:\\Users\\sanja\\anaconda3\\Lib\\site-packages\\sklearn\\ensemble\\_forest.py\", line 340, in fit\n    self._validate_params()\n  File \"C:\\Users\\sanja\\anaconda3\\Lib\\site-packages\\sklearn\\base.py\", line 600, in _validate_params\n    validate_parameter_constraints(\n  File \"C:\\Users\\sanja\\anaconda3\\Lib\\site-packages\\sklearn\\utils\\_param_validation.py\", line 97, in validate_parameter_constraints\n    raise InvalidParameterError(\nsklearn.utils._param_validation.InvalidParameterError: The 'criterion' parameter of RandomForestRegressor must be a str among {'friedman_mse', 'squared_error', 'absolute_error', 'poisson'}. Got 'mae' instead.\n\n--------------------------------------------------------------------------------\n1 fits failed with the following error:\nTraceback (most recent call last):\n  File \"C:\\Users\\sanja\\anaconda3\\Lib\\site-packages\\sklearn\\model_selection\\_validation.py\", line 686, in _fit_and_score\n    estimator.fit(X_train, y_train, **fit_params)\n  File \"C:\\Users\\sanja\\anaconda3\\Lib\\site-packages\\sklearn\\ensemble\\_forest.py\", line 340, in fit\n    self._validate_params()\n  File \"C:\\Users\\sanja\\anaconda3\\Lib\\site-packages\\sklearn\\base.py\", line 600, in _validate_params\n    validate_parameter_constraints(\n  File \"C:\\Users\\sanja\\anaconda3\\Lib\\site-packages\\sklearn\\utils\\_param_validation.py\", line 97, in validate_parameter_constraints\n    raise InvalidParameterError(\nsklearn.utils._param_validation.InvalidParameterError: The 'criterion' parameter of RandomForestRegressor must be a str among {'friedman_mse', 'absolute_error', 'squared_error', 'poisson'}. Got 'mae' instead.\n\n--------------------------------------------------------------------------------\n1 fits failed with the following error:\nTraceback (most recent call last):\n  File \"C:\\Users\\sanja\\anaconda3\\Lib\\site-packages\\sklearn\\model_selection\\_validation.py\", line 686, in _fit_and_score\n    estimator.fit(X_train, y_train, **fit_params)\n  File \"C:\\Users\\sanja\\anaconda3\\Lib\\site-packages\\sklearn\\ensemble\\_forest.py\", line 340, in fit\n    self._validate_params()\n  File \"C:\\Users\\sanja\\anaconda3\\Lib\\site-packages\\sklearn\\base.py\", line 600, in _validate_params\n    validate_parameter_constraints(\n  File \"C:\\Users\\sanja\\anaconda3\\Lib\\site-packages\\sklearn\\utils\\_param_validation.py\", line 97, in validate_parameter_constraints\n    raise InvalidParameterError(\nsklearn.utils._param_validation.InvalidParameterError: The 'criterion' parameter of RandomForestRegressor must be a str among {'poisson', 'squared_error', 'absolute_error', 'friedman_mse'}. Got 'mae' instead.\n\n--------------------------------------------------------------------------------\n1 fits failed with the following error:\nTraceback (most recent call last):\n  File \"C:\\Users\\sanja\\anaconda3\\Lib\\site-packages\\sklearn\\model_selection\\_validation.py\", line 686, in _fit_and_score\n    estimator.fit(X_train, y_train, **fit_params)\n  File \"C:\\Users\\sanja\\anaconda3\\Lib\\site-packages\\sklearn\\ensemble\\_forest.py\", line 340, in fit\n    self._validate_params()\n  File \"C:\\Users\\sanja\\anaconda3\\Lib\\site-packages\\sklearn\\base.py\", line 600, in _validate_params\n    validate_parameter_constraints(\n  File \"C:\\Users\\sanja\\anaconda3\\Lib\\site-packages\\sklearn\\utils\\_param_validation.py\", line 97, in validate_parameter_constraints\n    raise InvalidParameterError(\nsklearn.utils._param_validation.InvalidParameterError: The 'criterion' parameter of RandomForestRegressor must be a str among {'absolute_error', 'friedman_mse', 'poisson', 'squared_error'}. Got 'mae' instead.\n"
     ]
    }
   ],
   "source": [
    "RF_grid.fit(x_train,y_train)\n",
    "RF_grid_PRED=RF_grid.best_estimator_.predict(x_test)"
   ]
  },
  {
   "cell_type": "code",
   "execution_count": 78,
   "id": "8d40796b",
   "metadata": {},
   "outputs": [
    {
     "ename": "AttributeError",
     "evalue": "'GridSearchCV' object has no attribute 'best_params_'",
     "output_type": "error",
     "traceback": [
      "\u001b[1;31m---------------------------------------------------------------------------\u001b[0m",
      "\u001b[1;31mAttributeError\u001b[0m                            Traceback (most recent call last)",
      "Cell \u001b[1;32mIn[78], line 1\u001b[0m\n\u001b[1;32m----> 1\u001b[0m RF_grid\u001b[38;5;241m.\u001b[39mbest_params_\n",
      "\u001b[1;31mAttributeError\u001b[0m: 'GridSearchCV' object has no attribute 'best_params_'"
     ]
    }
   ],
   "source": [
    "RF_grid.best_params_"
   ]
  },
  {
   "cell_type": "code",
   "execution_count": null,
   "id": "1f7b411c",
   "metadata": {},
   "outputs": [],
   "source": []
  }
 ],
 "metadata": {
  "kernelspec": {
   "display_name": "Python 3 (ipykernel)",
   "language": "python",
   "name": "python3"
  },
  "language_info": {
   "codemirror_mode": {
    "name": "ipython",
    "version": 3
   },
   "file_extension": ".py",
   "mimetype": "text/x-python",
   "name": "python",
   "nbconvert_exporter": "python",
   "pygments_lexer": "ipython3",
   "version": "3.11.5"
  }
 },
 "nbformat": 4,
 "nbformat_minor": 5
}
